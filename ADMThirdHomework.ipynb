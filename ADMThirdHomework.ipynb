{
 "cells": [
  {
   "cell_type": "markdown",
   "metadata": {},
   "source": [
    "# Libraries"
   ]
  },
  {
   "cell_type": "code",
   "execution_count": 1,
   "metadata": {},
   "outputs": [],
   "source": [
    "import pandas as pd\n",
    "import numpy as np\n",
    "\n",
    "from collections import defaultdict\n",
    "import re\n",
    "import nltk\n",
    "\n",
    "from nltk.corpus import stopwords \n",
    "from nltk.stem import PorterStemmer\n",
    "from nltk.tokenize import sent_tokenize, word_tokenize\n",
    "from nltk.tokenize import RegexpTokenizer"
   ]
  },
  {
   "cell_type": "markdown",
   "metadata": {},
   "source": [
    "# Step 1: Data"
   ]
  },
  {
   "cell_type": "code",
   "execution_count": 2,
   "metadata": {},
   "outputs": [],
   "source": [
    "airbnb_data=pd.read_csv(\"Airbnb_Texas_Rentals.csv\",usecols=['average_rate_per_night', 'bedrooms_count', 'city',\n",
    "       'date_of_listing', 'description', 'latitude', 'longitude', 'title','url'],parse_dates=['date_of_listing'])"
   ]
  },
  {
   "cell_type": "code",
   "execution_count": 3,
   "metadata": {},
   "outputs": [
    {
     "data": {
      "text/plain": [
       "Index(['average_rate_per_night', 'bedrooms_count', 'city', 'date_of_listing',\n",
       "       'description', 'latitude', 'longitude', 'title', 'url'],\n",
       "      dtype='object')"
      ]
     },
     "execution_count": 3,
     "metadata": {},
     "output_type": "execute_result"
    }
   ],
   "source": [
    "airbnb_data.columns"
   ]
  },
  {
   "cell_type": "markdown",
   "metadata": {},
   "source": [
    "# Step 2: Create documents"
   ]
  },
  {
   "cell_type": "code",
   "execution_count": 4,
   "metadata": {},
   "outputs": [
    {
     "data": {
      "text/html": [
       "<div>\n",
       "<style>\n",
       "    .dataframe thead tr:only-child th {\n",
       "        text-align: right;\n",
       "    }\n",
       "\n",
       "    .dataframe thead th {\n",
       "        text-align: left;\n",
       "    }\n",
       "\n",
       "    .dataframe tbody tr th {\n",
       "        vertical-align: top;\n",
       "    }\n",
       "</style>\n",
       "<table border=\"1\" class=\"dataframe\">\n",
       "  <thead>\n",
       "    <tr style=\"text-align: right;\">\n",
       "      <th></th>\n",
       "      <th>average_rate_per_night</th>\n",
       "      <th>bedrooms_count</th>\n",
       "      <th>city</th>\n",
       "      <th>date_of_listing</th>\n",
       "      <th>description</th>\n",
       "      <th>latitude</th>\n",
       "      <th>longitude</th>\n",
       "      <th>title</th>\n",
       "      <th>url</th>\n",
       "    </tr>\n",
       "  </thead>\n",
       "  <tbody>\n",
       "    <tr>\n",
       "      <th>0</th>\n",
       "      <td>$27</td>\n",
       "      <td>2</td>\n",
       "      <td>Humble</td>\n",
       "      <td>2016-05-01</td>\n",
       "      <td>Welcome to stay in private room with queen bed...</td>\n",
       "      <td>30.020138</td>\n",
       "      <td>-95.293996</td>\n",
       "      <td>2 Private rooms/bathroom 10min from IAH airport</td>\n",
       "      <td>https://www.airbnb.com/rooms/18520444?location...</td>\n",
       "    </tr>\n",
       "    <tr>\n",
       "      <th>1</th>\n",
       "      <td>$149</td>\n",
       "      <td>4</td>\n",
       "      <td>San Antonio</td>\n",
       "      <td>2010-11-01</td>\n",
       "      <td>Stylish, fully remodeled home in upscale NW – ...</td>\n",
       "      <td>29.503068</td>\n",
       "      <td>-98.447688</td>\n",
       "      <td>Unique Location! Alamo Heights - Designer Insp...</td>\n",
       "      <td>https://www.airbnb.com/rooms/17481455?location...</td>\n",
       "    </tr>\n",
       "    <tr>\n",
       "      <th>2</th>\n",
       "      <td>$59</td>\n",
       "      <td>1</td>\n",
       "      <td>Houston</td>\n",
       "      <td>2017-01-01</td>\n",
       "      <td>'River house on island close to the city' \\nA ...</td>\n",
       "      <td>29.829352</td>\n",
       "      <td>-95.081549</td>\n",
       "      <td>River house near the city</td>\n",
       "      <td>https://www.airbnb.com/rooms/16926307?location...</td>\n",
       "    </tr>\n",
       "    <tr>\n",
       "      <th>3</th>\n",
       "      <td>$60</td>\n",
       "      <td>1</td>\n",
       "      <td>Bryan</td>\n",
       "      <td>2016-02-01</td>\n",
       "      <td>Private bedroom in a cute little home situated...</td>\n",
       "      <td>30.637304</td>\n",
       "      <td>-96.337846</td>\n",
       "      <td>Private Room Close to Campus</td>\n",
       "      <td>https://www.airbnb.com/rooms/11839729?location...</td>\n",
       "    </tr>\n",
       "    <tr>\n",
       "      <th>4</th>\n",
       "      <td>$75</td>\n",
       "      <td>2</td>\n",
       "      <td>Fort Worth</td>\n",
       "      <td>2017-02-01</td>\n",
       "      <td>Welcome to our original 1920's home. We recent...</td>\n",
       "      <td>32.747097</td>\n",
       "      <td>-97.286434</td>\n",
       "      <td>The Porch</td>\n",
       "      <td>https://www.airbnb.com/rooms/17325114?location...</td>\n",
       "    </tr>\n",
       "  </tbody>\n",
       "</table>\n",
       "</div>"
      ],
      "text/plain": [
       "  average_rate_per_night bedrooms_count         city date_of_listing  \\\n",
       "0                    $27              2       Humble      2016-05-01   \n",
       "1                   $149              4  San Antonio      2010-11-01   \n",
       "2                    $59              1      Houston      2017-01-01   \n",
       "3                    $60              1        Bryan      2016-02-01   \n",
       "4                    $75              2   Fort Worth      2017-02-01   \n",
       "\n",
       "                                         description   latitude  longitude  \\\n",
       "0  Welcome to stay in private room with queen bed...  30.020138 -95.293996   \n",
       "1  Stylish, fully remodeled home in upscale NW – ...  29.503068 -98.447688   \n",
       "2  'River house on island close to the city' \\nA ...  29.829352 -95.081549   \n",
       "3  Private bedroom in a cute little home situated...  30.637304 -96.337846   \n",
       "4  Welcome to our original 1920's home. We recent...  32.747097 -97.286434   \n",
       "\n",
       "                                               title  \\\n",
       "0    2 Private rooms/bathroom 10min from IAH airport   \n",
       "1  Unique Location! Alamo Heights - Designer Insp...   \n",
       "2                          River house near the city   \n",
       "3                       Private Room Close to Campus   \n",
       "4                                          The Porch   \n",
       "\n",
       "                                                 url  \n",
       "0  https://www.airbnb.com/rooms/18520444?location...  \n",
       "1  https://www.airbnb.com/rooms/17481455?location...  \n",
       "2  https://www.airbnb.com/rooms/16926307?location...  \n",
       "3  https://www.airbnb.com/rooms/11839729?location...  \n",
       "4  https://www.airbnb.com/rooms/17325114?location...  "
      ]
     },
     "execution_count": 4,
     "metadata": {},
     "output_type": "execute_result"
    }
   ],
   "source": [
    "airbnb_data.head()"
   ]
  },
  {
   "cell_type": "code",
   "execution_count": 5,
   "metadata": {
    "scrolled": true
   },
   "outputs": [
    {
     "data": {
      "text/plain": [
       "(18259, 9)"
      ]
     },
     "execution_count": 5,
     "metadata": {},
     "output_type": "execute_result"
    }
   ],
   "source": [
    "airbnb_data.shape"
   ]
  },
  {
   "cell_type": "markdown",
   "metadata": {},
   "source": [
    "# Clean data"
   ]
  },
  {
   "cell_type": "code",
   "execution_count": 6,
   "metadata": {},
   "outputs": [
    {
     "data": {
      "text/plain": [
       "average_rate_per_night    28\n",
       "bedrooms_count             3\n",
       "city                       0\n",
       "date_of_listing            0\n",
       "description                2\n",
       "latitude                  34\n",
       "longitude                 34\n",
       "title                      3\n",
       "url                        0\n",
       "dtype: int64"
      ]
     },
     "execution_count": 6,
     "metadata": {},
     "output_type": "execute_result"
    }
   ],
   "source": [
    "# Check null values of the dataset\n",
    "airbnb_data.isnull().sum()\n",
    "#average_rate_per_night -> replace NAN with 0, convert to int\n",
    "#bedrooms_count -> There are only 3 records so we decided to replace NAN with a category based on the desciption if it's possible. \n",
    "#description, latitude, longitude, title -> replace NAN to 'Unknown'"
   ]
  },
  {
   "cell_type": "code",
   "execution_count": 7,
   "metadata": {},
   "outputs": [
    {
     "data": {
      "text/plain": [
       "average_rate_per_night            object\n",
       "bedrooms_count                    object\n",
       "city                              object\n",
       "date_of_listing           datetime64[ns]\n",
       "description                       object\n",
       "latitude                         float64\n",
       "longitude                        float64\n",
       "title                             object\n",
       "url                               object\n",
       "dtype: object"
      ]
     },
     "execution_count": 7,
     "metadata": {},
     "output_type": "execute_result"
    }
   ],
   "source": [
    "airbnb_data.dtypes"
   ]
  },
  {
   "cell_type": "code",
   "execution_count": 8,
   "metadata": {},
   "outputs": [],
   "source": [
    "def clean(airbnb_data):\n",
    "    \"\"\"\n",
    "    Method that removes nan values and imputes them\n",
    "    \n",
    "    Input: dataframe\n",
    "    Output: cleaned dataframe\n",
    "    \n",
    "    \"\"\"\n",
    "    #replace NAN with 0\n",
    "    airbnb_data.average_rate_per_night.replace(np.nan, '$0',inplace=True)\n",
    "    #convert to int and remove $\n",
    "    airbnb_data.average_rate_per_night=airbnb_data.average_rate_per_night.replace('[\\$]', '', regex=True).astype(int)\n",
    "\n",
    "    #replace NAN with'unknown'\n",
    "\n",
    "    airbnb_data.description.replace(np.nan,'unknown',inplace=True)\n",
    "    airbnb_data.title.replace(np.nan,'unknown',inplace=True)\n",
    "\n",
    "    airbnb_data.latitude.replace(np.nan,'unknown',inplace=True)\n",
    "    airbnb_data.longitude.replace(np.nan,'unknown',inplace=True)\n",
    "\n",
    "    #check where bedrooms_count doesn't have a value and save indexes of those records to a list\n",
    "    null_value_idx=airbnb_data[airbnb_data.bedrooms_count.isnull()].index\n",
    "    #if the word studio is mentioned in description then it is a studio otherwise 'unknown'\n",
    "    for idx in null_value_idx:\n",
    "        if 'studio' in airbnb_data.iloc[idx].description.split():\n",
    "            airbnb_data.bedrooms_count[idx]='Studio'\n",
    "        else:\n",
    "            airbnb_data.bedrooms_count[idx]='unknown'\n",
    "        \n",
    "    return airbnb_data"
   ]
  },
  {
   "cell_type": "code",
   "execution_count": 9,
   "metadata": {},
   "outputs": [
    {
     "name": "stderr",
     "output_type": "stream",
     "text": [
      "C:\\Users\\Dusica\\Anaconda3\\lib\\site-packages\\ipykernel_launcher.py:29: SettingWithCopyWarning: \n",
      "A value is trying to be set on a copy of a slice from a DataFrame\n",
      "\n",
      "See the caveats in the documentation: http://pandas.pydata.org/pandas-docs/stable/indexing.html#indexing-view-versus-copy\n",
      "C:\\Users\\Dusica\\Anaconda3\\lib\\site-packages\\ipykernel_launcher.py:27: SettingWithCopyWarning: \n",
      "A value is trying to be set on a copy of a slice from a DataFrame\n",
      "\n",
      "See the caveats in the documentation: http://pandas.pydata.org/pandas-docs/stable/indexing.html#indexing-view-versus-copy\n"
     ]
    },
    {
     "data": {
      "text/plain": [
       "average_rate_per_night    0\n",
       "bedrooms_count            0\n",
       "city                      0\n",
       "date_of_listing           0\n",
       "description               0\n",
       "latitude                  0\n",
       "longitude                 0\n",
       "title                     0\n",
       "url                       0\n",
       "dtype: int64"
      ]
     },
     "execution_count": 9,
     "metadata": {},
     "output_type": "execute_result"
    }
   ],
   "source": [
    "airbnb_data=clean(airbnb_data)\n",
    "airbnb_data.isnull().sum()"
   ]
  },
  {
   "cell_type": "code",
   "execution_count": 10,
   "metadata": {},
   "outputs": [
    {
     "data": {
      "text/plain": [
       "(18259, 9)"
      ]
     },
     "execution_count": 10,
     "metadata": {},
     "output_type": "execute_result"
    }
   ],
   "source": [
    "airbnb_data.shape"
   ]
  },
  {
   "cell_type": "code",
   "execution_count": 11,
   "metadata": {},
   "outputs": [],
   "source": [
    "def create_tsv_documents(airbnb_data):\n",
    "    \"\"\"\n",
    "    Method that creates different .tsv files for each record in the airbnb_data \n",
    "    \n",
    "    Input: dataframe\n",
    "    \"\"\"   \n",
    "    #clean data\n",
    "    airbnb_data=clean(airbnb_data)\n",
    "    \n",
    "    #for each index make a dataframe of airbnb_data and store it into new tsv file\n",
    "    for i in airbnb_data.index:\n",
    "        pd.DataFrame(airbnb_data.loc[i]).transpose().to_csv('data/doc_'+str(i)+'.tsv',sep='\\t')"
   ]
  },
  {
   "cell_type": "markdown",
   "metadata": {
    "scrolled": true
   },
   "source": [
    "#method is run only once at the beginning to make separate .tsv files\n",
    "create_tsv_documents(airbnb_data)"
   ]
  },
  {
   "cell_type": "markdown",
   "metadata": {},
   "source": [
    "# Preprocessing\n",
    "\n",
    "1) Removing stop words\n",
    "\n",
    "2) Removing punctuation\n",
    "\n",
    "3) Stemming\n",
    "\n",
    "##### remove non english words and words Giulia chooses (room, price, airbnb) MOST often ones_?\n",
    "##### should we remove numbers__?"
   ]
  },
  {
   "cell_type": "markdown",
   "metadata": {},
   "source": [
    "# 3.1) Conjunctive query\n",
    "\n",
    "## 3.1.1) Create your index!"
   ]
  },
  {
   "cell_type": "code",
   "execution_count": 12,
   "metadata": {},
   "outputs": [],
   "source": [
    "#Building a vocabulary\n",
    "\n",
    "#set for vocabulary (values of the set will be the keys fo vocabulary_dict)\n",
    "vocabulary_set=set()\n",
    "#building a dictionary which will be used for making an inverted index\n",
    "vocabulary_dict=defaultdict(list)"
   ]
  },
  {
   "cell_type": "code",
   "execution_count": 13,
   "metadata": {},
   "outputs": [],
   "source": [
    "def preprocessing_text(df):\n",
    "    #remove upper cases\n",
    "    df=df.lower()\n",
    "    #replacing new line sign '\\n' with a whitespace ' '    \n",
    "    df=df.replace('\\\\n',' ')\n",
    "\n",
    "    #removing stop words and punctuation\n",
    "    stop_words = set(stopwords.words('english')) \n",
    "\n",
    "    #for removing punctuations\n",
    "    tokenizer = RegexpTokenizer(r'\\w+')\n",
    "    \n",
    "    #to tokenize the string\n",
    "    word_tokens = tokenizer.tokenize(df) \n",
    "\n",
    "    #stemming\n",
    "    ps = PorterStemmer()\n",
    "    filtered_words = [ps.stem(w) for w in word_tokens if not w in stop_words] \n",
    "\n",
    "    #remove non-english words\n",
    "    \n",
    "    return filtered_words"
   ]
  },
  {
   "cell_type": "code",
   "execution_count": 14,
   "metadata": {},
   "outputs": [],
   "source": [
    "#Building a vocabulary\n",
    "\n",
    "#set for vocabulary (values of the set will be the keys fo vocabulary_dict)\n",
    "vocabulary_lst=[]\n",
    "#building a dictionary which will be used for making an inverted index\n",
    "doc_vocabs=defaultdict(list)\n",
    "\n",
    "doc_vocabs=defaultdict(list)\n",
    "\n",
    "for i in airbnb_data.index:\n",
    "    #take one file\n",
    "    df=pd.read_csv('data/doc_'+str(i)+'.tsv',sep='\\t',usecols=['description','title'],encoding='ISO-8859-1')\n",
    "    #preprocessing \n",
    "    df=df.description[0]+' '+df.title[0]\n",
    "    filtered_words=preprocessing_text(df)\n",
    "    temp_vocabulary_set=set()\n",
    "    for word in filtered_words:\n",
    "        temp_vocabulary_set.add(word)\n",
    "    vocabulary_lst.append(temp_vocabulary_set)\n",
    "    doc_vocabs[i]=list(temp_vocabulary_set)\n",
    "vocabulary_set=set.union(*vocabulary_lst)"
   ]
  },
  {
   "cell_type": "code",
   "execution_count": 15,
   "metadata": {},
   "outputs": [
    {
     "data": {
      "text/plain": [
       "11717"
      ]
     },
     "execution_count": 15,
     "metadata": {},
     "output_type": "execute_result"
    }
   ],
   "source": [
    "len(vocabulary_set)"
   ]
  },
  {
   "cell_type": "code",
   "execution_count": 16,
   "metadata": {},
   "outputs": [],
   "source": [
    "#mapping words into integers\n",
    "vocabulary={}\n",
    "for k,v in enumerate(vocabulary_set):\n",
    "    #just for testing\n",
    "    #vocabulary[v]='id'+str(k)\n",
    "    vocabulary[v]= k"
   ]
  },
  {
   "cell_type": "code",
   "execution_count": 17,
   "metadata": {},
   "outputs": [
    {
     "data": {
      "text/plain": [
       "11717"
      ]
     },
     "execution_count": 17,
     "metadata": {},
     "output_type": "execute_result"
    }
   ],
   "source": [
    "len(vocabulary)"
   ]
  },
  {
   "cell_type": "code",
   "execution_count": 18,
   "metadata": {},
   "outputs": [],
   "source": [
    "def save_vocabulary(vocabulary): \n",
    "    \"\"\"\n",
    "    method that converts vocabulary into a dataframe and saves it into a csv file\n",
    "    \n",
    "    input: vocabulary(dictionary, key='term',value='term_id')\n",
    "    \"\"\"\n",
    "    vocabulary_dataframe=pd.DataFrame()\n",
    "    vocabulary_dataframe['word']=vocabulary.keys()\n",
    "    vocabulary_dataframe.to_csv('vocabulary.csv')\n",
    "    del vocabulary_dataframe"
   ]
  },
  {
   "cell_type": "code",
   "execution_count": 19,
   "metadata": {},
   "outputs": [],
   "source": [
    "save_vocabulary(vocabulary)"
   ]
  },
  {
   "cell_type": "markdown",
   "metadata": {},
   "source": [
    "# Compute an inverted index"
   ]
  },
  {
   "cell_type": "code",
   "execution_count": 20,
   "metadata": {},
   "outputs": [],
   "source": [
    "def compute_inverted_idx(doc_vocabs,vocabulary):\n",
    "    \"\"\"\n",
    "    method that computes an inverted index\n",
    "    \n",
    "    input: doc_vocabs(dictionary), vocabulary(dictionary of all unique words, key=term, value=term_id)\n",
    "    output: inverted_idx(dictionary, key=term_id, value=list of document_ids) \n",
    "    \"\"\"\n",
    "    #initialize defaultdict for making an inverted index\n",
    "    inverted_idx = defaultdict(list)\n",
    "    #in every document look for every word and assign document id to the words which belong to it\n",
    "    for idx in doc_vocabs.keys():\n",
    "        for word in doc_vocabs[idx]:\n",
    "            inverted_idx[vocabulary[word]].append(idx)\n",
    "    return inverted_idx"
   ]
  },
  {
   "cell_type": "code",
   "execution_count": 21,
   "metadata": {},
   "outputs": [],
   "source": [
    "#compute an inverted index\n",
    "inverted_idx=compute_inverted_idx(doc_vocabs,vocabulary)"
   ]
  },
  {
   "cell_type": "markdown",
   "metadata": {},
   "source": [
    "## problematico -- saving a file"
   ]
  },
  {
   "cell_type": "code",
   "execution_count": 23,
   "metadata": {},
   "outputs": [],
   "source": [
    "#Hint: Since you do not want to compute the inverted \n",
    "#index every time you use the Search Engine, \n",
    "#it is worth to think to store it in a separate file and load it in memory when needed.\n",
    "\n",
    "# Save a dictionary into a pickle file.\n",
    "import pickle\n",
    "\n",
    "pickle.dump(inverted_idx, open(\"save.p\", \"wb\"))  # save it into a file named save.p\n",
    "\n",
    "# Load the dictionary back from the pickle file.\n",
    "\n",
    "inverted_index = pickle.load(open(\"save.p\", \"rb\"))"
   ]
  },
  {
   "cell_type": "code",
   "execution_count": 32,
   "metadata": {},
   "outputs": [
    {
     "data": {
      "text/plain": [
       "2478"
      ]
     },
     "execution_count": 32,
     "metadata": {},
     "output_type": "execute_result"
    }
   ],
   "source": [
    "#for example number of documents containing word whose id is 11010\n",
    "len(inverted_index[11010])"
   ]
  },
  {
   "cell_type": "code",
   "execution_count": 37,
   "metadata": {},
   "outputs": [
    {
     "name": "stdout",
     "output_type": "stream",
     "text": [
      "guest\n"
     ]
    }
   ],
   "source": [
    "for k in vocabulary.keys():\n",
    "    if vocabulary[k]==11010:\n",
    "        print(k)"
   ]
  },
  {
   "cell_type": "code",
   "execution_count": 38,
   "metadata": {},
   "outputs": [],
   "source": [
    "# we can clean our vocab more for 2nd part"
   ]
  },
  {
   "cell_type": "markdown",
   "metadata": {},
   "source": [
    "# 3.1.2) Execute the query"
   ]
  },
  {
   "cell_type": "code",
   "execution_count": 50,
   "metadata": {},
   "outputs": [],
   "source": [
    "def finalize_output(result_set):\n",
    "    df=pd.DataFrame()\n",
    "    for i,val in enumerate(result_set):\n",
    "        pd.set_option('display.max_colwidth', -1)\n",
    "        df=df.append(pd.read_csv('data/doc_'+str(val)+'.tsv',sep='\\t',usecols=['description','title','city','url']\n",
    "                                 ,encoding='ISO-8859-1',index_col=False))\n",
    "        df.reset_index().drop('index',axis=1,inplace=True)\n",
    "    return df"
   ]
  },
  {
   "cell_type": "code",
   "execution_count": 51,
   "metadata": {},
   "outputs": [],
   "source": [
    "def search_engine():\n",
    "    user_query=str(input())\n",
    "    #input()\n",
    "\n",
    "    user_query=preprocessing_text(user_query)\n",
    "\n",
    "    list_term_idx=[]\n",
    "    result_set=[]\n",
    "    for word in user_query:\n",
    "        #if word exist in the vocabulary\n",
    "        if word in vocabulary.keys():\n",
    "            list_term_idx.append(set(inverted_idx[vocabulary[word]]))\n",
    "        else:\n",
    "            list_term_idx.append({'x'})\n",
    "            break\n",
    "    result_set=list(set.intersection(*list_term_idx))\n",
    "    if 'x' in result_set or not result_set:\n",
    "        result_set='No results! Try again!'\n",
    "        return result_set\n",
    "        \n",
    "    print(result_set)\n",
    "    result_set=finalize_output(result_set)\n",
    "    return result_set"
   ]
  },
  {
   "cell_type": "code",
   "execution_count": 52,
   "metadata": {},
   "outputs": [
    {
     "name": "stdout",
     "output_type": "stream",
     "text": [
      "room sun beach\n",
      "[17153, 13025, 3367, 16007, 17832, 17865, 4363, 872, 5805, 239, 18041, 18163, 17652, 13205, 17271, 12024, 14713, 378, 13275, 9087]\n"
     ]
    },
    {
     "data": {
      "text/html": [
       "<div>\n",
       "<style>\n",
       "    .dataframe thead tr:only-child th {\n",
       "        text-align: right;\n",
       "    }\n",
       "\n",
       "    .dataframe thead th {\n",
       "        text-align: left;\n",
       "    }\n",
       "\n",
       "    .dataframe tbody tr th {\n",
       "        vertical-align: top;\n",
       "    }\n",
       "</style>\n",
       "<table border=\"1\" class=\"dataframe\">\n",
       "  <thead>\n",
       "    <tr style=\"text-align: right;\">\n",
       "      <th></th>\n",
       "      <th>city</th>\n",
       "      <th>description</th>\n",
       "      <th>title</th>\n",
       "      <th>url</th>\n",
       "    </tr>\n",
       "  </thead>\n",
       "  <tbody>\n",
       "    <tr>\n",
       "      <th>0</th>\n",
       "      <td>Corpus Christi</td>\n",
       "      <td>3 bedroom beach condo not but a block from Gulf of Mexico. Spacious rooms, TVs, washer and dryer and 2 car garage. Fully furnished and equipped kitchen. 2 outside patios, one on upper floor with view of water. Hardwood floors which are easy maintenance with trips to and from beach. Bike and chairs in garage for usage. Information manual in entrance hallway counter for directions to all points of interest.</td>\n",
       "      <td>Wilson Beach House. Fun in the SUN</td>\n",
       "      <td>https://www.airbnb.com/rooms/17573576?location=Aransas%20Pass%2C%20TX</td>\n",
       "    </tr>\n",
       "    <tr>\n",
       "      <th>0</th>\n",
       "      <td>Aransas Pass</td>\n",
       "      <td>Vacation rental house is in a quiet central location, perfect for winter Texans. Minutes away from Conn Brown Harbor, Rockport and Port Aransas Beaches. 1700 + sq ft, 3 Bdrms plus Sun Room, 2 Baths, and Sleeps 10. Relax and Enjoy the View from the Screened-in-Porch. Booking by week only June thru Oct , Nov. thru March booking by month only - competitively priced.</td>\n",
       "      <td>Aransas Pass Get-a-Way</td>\n",
       "      <td>https://www.airbnb.com/rooms/16916649?location=Aransas%20Pass%2C%20TX</td>\n",
       "    </tr>\n",
       "    <tr>\n",
       "      <th>0</th>\n",
       "      <td>Corpus Christi</td>\n",
       "      <td>Newly remodeled in March of 2014, our beautiful luxury condo can sleep up to 6 persons (4 adults Max). It has 1 private bedroom with a New Queen bed, 1 bath,two bunkbeds located in the hallway (suitable for children ) and a plush leather sofa sleleper. It is designed for maximum comfort. New stainless steel full size refrigerator and stove, a microwave, New towels, rugs and includes memory foam toppers on all beds including the Sofa Sleeper.\\n\\nThis is a Christian retreat that offers all of the luxuries that you would wish for while on vacation. All bedding is plush, new, and makes for excellent sleeping after a full day in the sun! A kitchen with a full size stainless steel refrigerator, stove with oven and includes all of the cooking tools you require for a home cooked meal while on the road. The living room has plush large comfortable furniture for relaxing. Your Condo has two wall mounted Flat Screened TV's, one smart TV in the bedroom and one 40 in the living room. Last, but certainly not least is an excellent balcony with 2 bar height Chairs, 2 chairs and a table, so you may sit and relax while overlooking the ocean and beach. The Condo community has two full sized swimming pools, and one kiddie pool. One of the pools is heated during the cooler winter months. There are 3 covered BBQ areas, and plenty of parking. Corpus Christi boasts of World Class Kite Surfing, World Class Fishing, and excellent shopping, bars, and restaurants. Villa del Sol Condominiums are located on the North Beach and with a short walk on the beach you will find quality restaurants, bars, and shopping. You and your travel companions will marvel at the beauty and splendor of the Texas Gulf Coast. Come relax on the Beach, enjoy the Sun, and Ocean, but enjoy your stay in a true HOME away from home in this Tropical Blue Getaway located right on the beach!</td>\n",
       "      <td>Beach Front Condo-Corpus Christi</td>\n",
       "      <td>https://www.airbnb.com/rooms/2857736?location=Corpus%20Christi%2C%20TX</td>\n",
       "    </tr>\n",
       "    <tr>\n",
       "      <th>0</th>\n",
       "      <td>Corpus Christi</td>\n",
       "      <td>Soak up the sun at this spacious and bright 2-bedroom, 2-bathroom Corpus Christi vacation rental condo, just minutes from the beach. With room to comfortably sleep 4, this fully equipped rental features gorgeous balcony views in addition to all of the comforts of home. Enjoy some fishing, take a stroll on the boardwalk, or enjoy a meal at one of the many nearby restaurants. No matter your vacation plans, this condo will help you enjoy Corpus Christi to the fullest!</td>\n",
       "      <td>NEW! 2BR Corpus Christi Condo - Minutes from Beach!</td>\n",
       "      <td>https://www.airbnb.com/rooms/19192987?location=Baffin%20Bay%2C%20TX</td>\n",
       "    </tr>\n",
       "    <tr>\n",
       "      <th>0</th>\n",
       "      <td>Corpus Christi</td>\n",
       "      <td>3 bedroom beach condo not but a block from Gulf of Mexico. Spacious rooms, TVs, washer and dryer and 2 car garage. Fully furnished and equipped kitchen. 2 outside patios, one on upper floor with view of water. Hardwood floors which are easy maintenance with trips to and from beach. Bike and chairs in garage for usage. Information manual in entrance hallway counter for directions to all points of interest.</td>\n",
       "      <td>Wilson Beach House. Fun in the SUN</td>\n",
       "      <td>https://www.airbnb.com/rooms/17573576?location=Baffin%20Bay%2C%20TX</td>\n",
       "    </tr>\n",
       "    <tr>\n",
       "      <th>0</th>\n",
       "      <td>Corpus Christi</td>\n",
       "      <td>Stay with us in this 3 bedroom, 2.5 bath townhouse with your very own personal hot tub oasis on the back patio on North Padre Island. Luxury leather sofa, Lounge on the upper deck in the oversized hammock and electric blinds. Full size kitchen, laundry room, plenty of flat screen TV's throughout. The beach is literally a walk away and you can hear the water call your name. Community pool for those who would rather sun bath all day. Schliterrbahn, Packery Channel for fishing and tons of shops.</td>\n",
       "      <td>Oasis with Hot Tub North Padre 3 bdrm &amp; Loft</td>\n",
       "      <td>https://www.airbnb.com/rooms/16799245?location=Aransas%20Pass%2C%20TX</td>\n",
       "    </tr>\n",
       "    <tr>\n",
       "      <th>0</th>\n",
       "      <td>Corpus Christi</td>\n",
       "      <td>My cozy,well kept, comfortable beach Condo # 1316 can sleep up to 6 persons (4 adults Max). It has1 bedroom, 1 bath, along with two bunkbeds (suitable for children ) and a comfortable sofa sleleper. It is designed for maximum comfort! \\n\\nThis is an awesome place to retreat and it offers all of the luxuries that you would wish for while on vacation. Newly updated in March 2016, it has new bath towels, rugs, memory foam toppers on beds makes for excellent sleeping after a full day in the sun! Fully stocked kitchen with a full size refrigerator and a stove with an oven. A kitchen that includes all of the cooking tools you require for a home cooked meal while on the road. The living room has comfortable furniture for relaxing. Your Condo has two wall mounted Flat Screened TV's, one in the bedroom and one in the living room. Last, but certainly not least is an excellent balcony with Stunning views!! It has bar height Chairs so you may sit and relax while overlooking the ocean and beach. The Condo community has two full sized swimming pools, and one kiddie pool. One of the pools is heated during the cooler winter months. There are 3 covered BBQ areas, and plenty of parking. \\n\\nCorpus Christi boasts of World Class Kite Surfing, World Class Fishing, and excellent shopping, bars, and restaurants. Villa del Sol Condominiums are located on the North Beach and with a short walk on the beach you will find quality restaurants, bars, and shopping. You and your travel companions will marvel at the beauty and splendor of the Texas Gulf Coast. Come relax on the Beach, enjoy the Sun, and Ocean, but enjoy your stay in a true HOME away from home in this cozy, charming condo located right on the beach!</td>\n",
       "      <td>Cozy Corpus Beach Condo #1316</td>\n",
       "      <td>https://www.airbnb.com/rooms/13029704?location=Corpus%20Christi%2C%20TX</td>\n",
       "    </tr>\n",
       "    <tr>\n",
       "      <th>0</th>\n",
       "      <td>Corpus Christi</td>\n",
       "      <td>Classy beach front pad. Two balcony views of Gulf of Mexico. Observation nest on third patio with amazing panoramic view of entire beach front. This lovely town home has a private patio with hot tub, grill and room for entertainment. Nestled right across the street from SeaWall. You will fall in love waking up to waves, sand and sun.</td>\n",
       "      <td>E Lee Paradise Pad</td>\n",
       "      <td>https://www.airbnb.com/rooms/19431862?location=Aransas%20Pass%2C%20TX</td>\n",
       "    </tr>\n",
       "    <tr>\n",
       "      <th>0</th>\n",
       "      <td>Whitney</td>\n",
       "      <td>Waterview Cabin has a large fenced yard lot with lots of room for kids and pets, a fire pit, a deck with a small lake view perfect for watching the sun set, and a cozy, comfortable interior. Boat ramps and beaches are just a few minutes drive away!</td>\n",
       "      <td>Family (&amp; Pet) Friendly Lake House</td>\n",
       "      <td>https://www.airbnb.com/rooms/10648577?location=Clifton%2C%20TX</td>\n",
       "    </tr>\n",
       "    <tr>\n",
       "      <th>0</th>\n",
       "      <td>Corpus Christi</td>\n",
       "      <td>My cozy,well kept, comfortable beach Condo # 1316 can sleep up to 6 persons (4 adults Max). It has1 bedroom, 1 bath, along with two bunkbeds (suitable for children ) and a comfortable sofa sleleper. It is designed for maximum comfort! \\n\\nThis is an awesome place to retreat and it offers all of the luxuries that you would wish for while on vacation. Newly updated in March 2016, it has new bath towels, rugs, memory foam toppers on beds makes for excellent sleeping after a full day in the sun! Fully stocked kitchen with a full size refrigerator and a stove with an oven. A kitchen that includes all of the cooking tools you require for a home cooked meal while on the road. The living room has comfortable furniture for relaxing. Your Condo has two wall mounted Flat Screened TV's, one in the bedroom and one in the living room. Last, but certainly not least is an excellent balcony with Stunning views!! It has bar height Chairs so you may sit and relax while overlooking the ocean and beach. The Condo community has two full sized swimming pools, and one kiddie pool. One of the pools is heated during the cooler winter months. There are 3 covered BBQ areas, and plenty of parking. \\n\\nCorpus Christi boasts of World Class Kite Surfing, World Class Fishing, and excellent shopping, bars, and restaurants. Villa del Sol Condominiums are located on the North Beach and with a short walk on the beach you will find quality restaurants, bars, and shopping. You and your travel companions will marvel at the beauty and splendor of the Texas Gulf Coast. Come relax on the Beach, enjoy the Sun, and Ocean, but enjoy your stay in a true HOME away from home in this cozy, charming condo located right on the beach!</td>\n",
       "      <td>Cozy Corpus Beach Condo #1316</td>\n",
       "      <td>https://www.airbnb.com/rooms/13029704?location=Aransas%20Pass%2C%20TX</td>\n",
       "    </tr>\n",
       "    <tr>\n",
       "      <th>0</th>\n",
       "      <td>Galveston</td>\n",
       "      <td>Each room in this 2 bedroom/1 bath retreat is designed to leave you with a warm coastal feeling allowing you to enjoy your space when not on the beach enjoying the sun. Your weekend oasis is located on the Gulf of Mexico side of the island and just steps away from the beach. Whether you like to fish, workout or just relax you can enjoy the serene feeling of both the Gulf of Mexico and Galveston Bay. You will love the high end mattress in both bedrooms and close proximity to all entertainment.</td>\n",
       "      <td>Luxury Retreat! As Seen on HGTV - MAGE Beach Haven</td>\n",
       "      <td>https://www.airbnb.com/rooms/15123685?location=Bayou%20Vista%2C%20TX</td>\n",
       "    </tr>\n",
       "    <tr>\n",
       "      <th>0</th>\n",
       "      <td>Corpus Christi</td>\n",
       "      <td>Newly remodeled in March of 2014, our beautiful luxury condo can sleep up to 6 persons (4 adults Max). It has 1 private bedroom with a New Queen bed, 1 bath,two bunkbeds located in the hallway (suitable for children ) and a plush leather sofa sleleper. It is designed for maximum comfort. New stainless steel full size refrigerator and stove, a microwave, New towels, rugs and includes memory foam toppers on all beds including the Sofa Sleeper.\\n\\nThis is a Christian retreat that offers all of the luxuries that you would wish for while on vacation. All bedding is plush, new, and makes for excellent sleeping after a full day in the sun! A kitchen with a full size stainless steel refrigerator, stove with oven and includes all of the cooking tools you require for a home cooked meal while on the road. The living room has plush large comfortable furniture for relaxing. Your Condo has two wall mounted Flat Screened TV's, one smart TV in the bedroom and one 40 in the living room. Last, but certainly not least is an excellent balcony with 2 bar height Chairs, 2 chairs and a table, so you may sit and relax while overlooking the ocean and beach. The Condo community has two full sized swimming pools, and one kiddie pool. One of the pools is heated during the cooler winter months. There are 3 covered BBQ areas, and plenty of parking. Corpus Christi boasts of World Class Kite Surfing, World Class Fishing, and excellent shopping, bars, and restaurants. Villa del Sol Condominiums are located on the North Beach and with a short walk on the beach you will find quality restaurants, bars, and shopping. You and your travel companions will marvel at the beauty and splendor of the Texas Gulf Coast. Come relax on the Beach, enjoy the Sun, and Ocean, but enjoy your stay in a true HOME away from home in this Tropical Blue Getaway located right on the beach!</td>\n",
       "      <td>Beach Front Condo-Corpus Christi</td>\n",
       "      <td>https://www.airbnb.com/rooms/2857736?location=Aransas%20Pass%2C%20TX</td>\n",
       "    </tr>\n",
       "    <tr>\n",
       "      <th>0</th>\n",
       "      <td>Surfside Beach</td>\n",
       "      <td>My place is close to The Beach and fun in the Sun. Youll love my place because of the comfy beds and coziness, the high ceilings and the perfect location with breath taking views.. My place is good for couples, solo adventurers, business travelers, families (with kids), big groups, and furry friends (pets) with deposit.\\nNew furniture through most of the house and fully stocked kitchen. Access the wrap around balconies from every room. large, clean bathrooms and ocean view from upstairs bedroom</td>\n",
       "      <td>Paradise on the Beach perfect water views</td>\n",
       "      <td>https://www.airbnb.com/rooms/12954087?location=Angleton%2C%20TX</td>\n",
       "    </tr>\n",
       "    <tr>\n",
       "      <th>0</th>\n",
       "      <td>Freeport</td>\n",
       "      <td>Looking for a newer vacation home with a great kitchen and 4 (yes 4!) decks to see all angles of the Gulf? This is your spot to book then! Excellent location just a couple houses down from the beach walkway on a quiet side street in the community of Surfside Beach. Enjoy the seashell covered beach while basking in the sun all day and then stroll back to enjoy a fabulous meal together on the large main level deck or at the dining table. 3 large bedrooms are all outfitted with a Queen size bed with luxury hotel grade linens. The upstairs Master and second Mater bedrooms each have their own private full bathrooms and private decks. Bedroom #3 is the largest offering some extra room to throw a sleeping bag or air mattress on the floor for the kiddies and still not be cramped. 3 full bathrooms are in this sea side beach home.\\r\\nIt is easy to enjoy all the close-by amenities Surfside Beach has to offer including multiple restaurants, several bars, and even a crabbing pier located across the street!\\r\\n**All reservations include $ liability protection and $10,000 damage insurance - No Security Deposit Required!\\r\\n**NOTE: Reservations for Spring Break (month of March), Memorial Day weekend, Fourth of July, Labor Day weekend, Thanksgiving, and Christmas, and New Years all require a minimum 4 day reservation. Reservations between June 1st and September 1st all require a minimum 3 day reservation.\\r\\n**Absolutely No Prom or Graduation parties permitted, please.\\r\\nTHE 979 VACATION PROPERTY SERVICES ADVANTAGE:\\r\\nThis property is 979 Certified. All photos, amenities, calendar, and rates are 100% accurate to the best of our knowledge. We ensure our homes are completely cleaned after each guest stay, ensuring your stay is nothing short of spectacular. In addition, all of our homes feature hotel-quality/high thread count on all sheets, bedding, and bath towels. When you rent a 979 home, you'll also receive the comforts of home with a starter supply of shampoo, shower gel, conditioner, toilet paper and paper towels, dishwasher and clothes washer pods. We want your stay to be as easy as you do and we make every effort to delight.\\r\\nEASY CHECK-IN:\\r\\nAnd we make it easy to stay with us! Access the home with a unique lock code that we give only to you via text and email.\\r\\n979 VACATION PROPERTY SERVICES:\\r\\nAll 979 Vacation Property Services rental home follow local and state tax rules. Each reservation includes applicable taxes, a cleaning fee, and a Property Damage Protection policy for your peace of mind.</td>\n",
       "      <td>Phoenix Rising... A Few Steps to the shores of Surfside Beach!</td>\n",
       "      <td>https://www.airbnb.com/rooms/19406684?location=Angleton%2C%20TX</td>\n",
       "    </tr>\n",
       "    <tr>\n",
       "      <th>0</th>\n",
       "      <td>Corpus Christi</td>\n",
       "      <td>Classy beach front pad. Two balcony views of Gulf of Mexico. Observation nest on third patio with amazing panoramic view of entire beach front. This lovely town home has a private patio with hot tub, grill and room for entertainment. Nestled right across the street from SeaWall. You will fall in love waking up to waves, sand and sun.</td>\n",
       "      <td>E Lee Paradise Pad</td>\n",
       "      <td>https://www.airbnb.com/rooms/19431862?location=Baffin%20Bay%2C%20TX</td>\n",
       "    </tr>\n",
       "    <tr>\n",
       "      <th>0</th>\n",
       "      <td>South Padre Island</td>\n",
       "      <td>You may call us AC866 n. Gulf and Bay views from this signature resort building. 2 level living includes 2 bedrooms, with King bed, queen bed and private bathrooms. Upstairs is kitchen with beautiful maple cabinets and all the amenities expected plus more. New large flat panel TV. This building has it all, pool and hot tub new in 2007(refurbished 2016), exercise room, sun deck,tennis courts, racquetball courts, table tennis, \\nsauna, and a short walk thru private entrance to beach.</td>\n",
       "      <td>Great 10th Floor Gulf views in Premier complex</td>\n",
       "      <td>https://www.airbnb.com/rooms/18196991?location=Brownsville%2C%20TX</td>\n",
       "    </tr>\n",
       "    <tr>\n",
       "      <th>0</th>\n",
       "      <td>Port Aransas</td>\n",
       "      <td>Beach Close, 3 bedroom, 2 bathrooms, sleeps 10. Beachy comfortable with a spacious great room. King bed in the master, 1 Queens, 1 full, 2 twins and a Queen sleeper sectional sofa. We are a 4 minute walk to the beach. Pet friendly &amp;amp; no size or weight limit. Gated sun deck. In town, Pool onsite. Large lot with 3 units,bring the whole family rent all 3 units.Lots of Parking, boats too.</td>\n",
       "      <td>Green House*Beach Close* Pool* Pets R Free</td>\n",
       "      <td>https://www.airbnb.com/rooms/4393576?location=Aransas%20Pass%2C%20TX</td>\n",
       "    </tr>\n",
       "    <tr>\n",
       "      <th>0</th>\n",
       "      <td>South Padre Island</td>\n",
       "      <td>Enjoy a relaxing stay in our large and beautiful condo! All of the comforts of home and only steps away from the sand. Relax on the very spacious balcony while you take in the awesome scenery. On your way back from the beach, enjoy a dip in one of the 3 pools or 3 hot tubs. Too much water? The complex features 4 tennis courts and a shuffleboard court at your disposal. Too much sun? We have TVs in each bedroom and a huge one in the living room. Come stay with us. You'll love it!</td>\n",
       "      <td>Amazing views in this large, beachfront condo!</td>\n",
       "      <td>https://www.airbnb.com/rooms/15055173?location=Brownsville%2C%20TX</td>\n",
       "    </tr>\n",
       "    <tr>\n",
       "      <th>0</th>\n",
       "      <td>Corpus Christi</td>\n",
       "      <td>Stay with us in this 3 bedroom, 2.5 bath townhouse with your very own personal hot tub oasis on the back patio on North Padre Island. Luxury leather sofa, Lounge on the upper deck in the oversized hammock and electric blinds. Full size kitchen, laundry room, plenty of flat screen TV's throughout. The beach is literally a walk away and you can hear the water call your name. Community pool for those who would rather sun bath all day. Schliterrbahn, Packery Channel for fishing and tons of shops.</td>\n",
       "      <td>Oasis with Hot Tub North Padre 3 bdrm &amp; Loft</td>\n",
       "      <td>https://www.airbnb.com/rooms/16799245?location=Baffin%20Bay%2C%20TX</td>\n",
       "    </tr>\n",
       "    <tr>\n",
       "      <th>0</th>\n",
       "      <td>South Padre Island</td>\n",
       "      <td>Enjoy a memorable vacation in this fully furnished, 2 bedroom/2 bath 6th Floor Condo (with elevator), comfortable for sleeping 6 people. The spacious living room is furnished with comfortable seating with cable TV. The kitchen is perfect for dining as it is equipped with pots, pans , flatware, coffee maker and dishwasher. Situated next to the Schlitterbahn Beach Resort and Water Park.\\n\\nSPI Permit \\nThe SPI tax rate is 17%\\nAirbnb is collecting 6%\\nIncluded in the nightly rate is 11%</td>\n",
       "      <td>More Fun in the Sun, 2/2 Next to Schlitterbahn</td>\n",
       "      <td>https://www.airbnb.com/rooms/18932630?location=Brownsville%2C%20TX</td>\n",
       "    </tr>\n",
       "  </tbody>\n",
       "</table>\n",
       "</div>"
      ],
      "text/plain": [
       "                 city  \\\n",
       "0  Corpus Christi       \n",
       "0  Aransas Pass         \n",
       "0  Corpus Christi       \n",
       "0  Corpus Christi       \n",
       "0  Corpus Christi       \n",
       "0  Corpus Christi       \n",
       "0  Corpus Christi       \n",
       "0  Corpus Christi       \n",
       "0  Whitney              \n",
       "0  Corpus Christi       \n",
       "0  Galveston            \n",
       "0  Corpus Christi       \n",
       "0  Surfside Beach       \n",
       "0  Freeport             \n",
       "0  Corpus Christi       \n",
       "0  South Padre Island   \n",
       "0  Port Aransas         \n",
       "0  South Padre Island   \n",
       "0  Corpus Christi       \n",
       "0  South Padre Island   \n",
       "\n",
       "                                                                                                                                                                                                                                                                                                                                                                                                                                                                                                                                                                                                                                                                                                                                                                                                                                                                                                                                                                                                                                                                                                                                                                                                                                                                                                                                                                                                                                                                                                                                                                                                                                                                                                                                                                                                                                                                                                                                                                                                                                                                                                                                                                                                                                                                                                                                                                                                                                                                                                                                                                                                                                  description  \\\n",
       "0  3 bedroom beach condo not but a block from Gulf of Mexico. Spacious rooms, TVs, washer and dryer and 2 car garage. Fully furnished and equipped kitchen. 2 outside patios, one on upper floor with view of water. Hardwood floors which are easy maintenance with trips to and from beach. Bike and chairs in garage for usage. Information manual in entrance hallway counter for directions to all points of interest.                                                                                                                                                                                                                                                                                                                                                                                                                                                                                                                                                                                                                                                                                                                                                                                                                                                                                                                                                                                                                                                                                                                                                                                                                                                                                                                                                                                                                                                                                                                                                                                                                                                                                                                                                                                                                                                                                                                                                                                                                                                                                                                                                                                                                     \n",
       "0  Vacation rental house is in a quiet central location, perfect for winter Texans. Minutes away from Conn Brown Harbor, Rockport and Port Aransas Beaches. 1700 + sq ft, 3 Bdrms plus Sun Room, 2 Baths, and Sleeps 10. Relax and Enjoy the View from the Screened-in-Porch. Booking by week only June thru Oct , Nov. thru March booking by month only - competitively priced.                                                                                                                                                                                                                                                                                                                                                                                                                                                                                                                                                                                                                                                                                                                                                                                                                                                                                                                                                                                                                                                                                                                                                                                                                                                                                                                                                                                                                                                                                                                                                                                                                                                                                                                                                                                                                                                                                                                                                                                                                                                                                                                                                                                                                                                                \n",
       "0  Newly remodeled in March of 2014, our beautiful luxury condo can sleep up to 6 persons (4 adults Max). It has 1 private bedroom with a New Queen bed, 1 bath,two bunkbeds located in the hallway (suitable for children ) and a plush leather sofa sleleper. It is designed for maximum comfort. New stainless steel full size refrigerator and stove, a microwave, New towels, rugs and includes memory foam toppers on all beds including the Sofa Sleeper.\\n\\nThis is a Christian retreat that offers all of the luxuries that you would wish for while on vacation. All bedding is plush, new, and makes for excellent sleeping after a full day in the sun! A kitchen with a full size stainless steel refrigerator, stove with oven and includes all of the cooking tools you require for a home cooked meal while on the road. The living room has plush large comfortable furniture for relaxing. Your Condo has two wall mounted Flat Screened TV's, one smart TV in the bedroom and one 40 in the living room. Last, but certainly not least is an excellent balcony with 2 bar height Chairs, 2 chairs and a table, so you may sit and relax while overlooking the ocean and beach. The Condo community has two full sized swimming pools, and one kiddie pool. One of the pools is heated during the cooler winter months. There are 3 covered BBQ areas, and plenty of parking. Corpus Christi boasts of World Class Kite Surfing, World Class Fishing, and excellent shopping, bars, and restaurants. Villa del Sol Condominiums are located on the North Beach and with a short walk on the beach you will find quality restaurants, bars, and shopping. You and your travel companions will marvel at the beauty and splendor of the Texas Gulf Coast. Come relax on the Beach, enjoy the Sun, and Ocean, but enjoy your stay in a true HOME away from home in this Tropical Blue Getaway located right on the beach!                                                                                                                                                                                                                                                                                                                                                                                                                                                                                                                                                                                                                                                                                                       \n",
       "0  Soak up the sun at this spacious and bright 2-bedroom, 2-bathroom Corpus Christi vacation rental condo, just minutes from the beach. With room to comfortably sleep 4, this fully equipped rental features gorgeous balcony views in addition to all of the comforts of home. Enjoy some fishing, take a stroll on the boardwalk, or enjoy a meal at one of the many nearby restaurants. No matter your vacation plans, this condo will help you enjoy Corpus Christi to the fullest!                                                                                                                                                                                                                                                                                                                                                                                                                                                                                                                                                                                                                                                                                                                                                                                                                                                                                                                                                                                                                                                                                                                                                                                                                                                                                                                                                                                                                                                                                                                                                                                                                                                                                                                                                                                                                                                                                                                                                                                                                                                                                                                                                        \n",
       "0  3 bedroom beach condo not but a block from Gulf of Mexico. Spacious rooms, TVs, washer and dryer and 2 car garage. Fully furnished and equipped kitchen. 2 outside patios, one on upper floor with view of water. Hardwood floors which are easy maintenance with trips to and from beach. Bike and chairs in garage for usage. Information manual in entrance hallway counter for directions to all points of interest.                                                                                                                                                                                                                                                                                                                                                                                                                                                                                                                                                                                                                                                                                                                                                                                                                                                                                                                                                                                                                                                                                                                                                                                                                                                                                                                                                                                                                                                                                                                                                                                                                                                                                                                                                                                                                                                                                                                                                                                                                                                                                                                                                                                                                     \n",
       "0  Stay with us in this 3 bedroom, 2.5 bath townhouse with your very own personal hot tub oasis on the back patio on North Padre Island. Luxury leather sofa, Lounge on the upper deck in the oversized hammock and electric blinds. Full size kitchen, laundry room, plenty of flat screen TV's throughout. The beach is literally a walk away and you can hear the water call your name. Community pool for those who would rather sun bath all day. Schliterrbahn, Packery Channel for fishing and tons of shops.                                                                                                                                                                                                                                                                                                                                                                                                                                                                                                                                                                                                                                                                                                                                                                                                                                                                                                                                                                                                                                                                                                                                                                                                                                                                                                                                                                                                                                                                                                                                                                                                                                                                                                                                                                                                                                                                                                                                                                                                                                                                                                                            \n",
       "0  My cozy,well kept, comfortable beach Condo # 1316 can sleep up to 6 persons (4 adults Max). It has1 bedroom, 1 bath, along with two bunkbeds (suitable for children ) and a comfortable sofa sleleper. It is designed for maximum comfort! \\n\\nThis is an awesome place to retreat and it offers all of the luxuries that you would wish for while on vacation. Newly updated in March 2016, it has new bath towels, rugs, memory foam toppers on beds makes for excellent sleeping after a full day in the sun! Fully stocked kitchen with a full size refrigerator and a stove with an oven. A kitchen that includes all of the cooking tools you require for a home cooked meal while on the road. The living room has comfortable furniture for relaxing. Your Condo has two wall mounted Flat Screened TV's, one in the bedroom and one in the living room. Last, but certainly not least is an excellent balcony with Stunning views!! It has bar height Chairs so you may sit and relax while overlooking the ocean and beach. The Condo community has two full sized swimming pools, and one kiddie pool. One of the pools is heated during the cooler winter months. There are 3 covered BBQ areas, and plenty of parking. \\n\\nCorpus Christi boasts of World Class Kite Surfing, World Class Fishing, and excellent shopping, bars, and restaurants. Villa del Sol Condominiums are located on the North Beach and with a short walk on the beach you will find quality restaurants, bars, and shopping. You and your travel companions will marvel at the beauty and splendor of the Texas Gulf Coast. Come relax on the Beach, enjoy the Sun, and Ocean, but enjoy your stay in a true HOME away from home in this cozy, charming condo located right on the beach!                                                                                                                                                                                                                                                                                                                                                                                                                                                                                                                                                                                                                                                                                                                                                                                                                                                              \n",
       "0  Classy beach front pad. Two balcony views of Gulf of Mexico. Observation nest on third patio with amazing panoramic view of entire beach front. This lovely town home has a private patio with hot tub, grill and room for entertainment. Nestled right across the street from SeaWall. You will fall in love waking up to waves, sand and sun.                                                                                                                                                                                                                                                                                                                                                                                                                                                                                                                                                                                                                                                                                                                                                                                                                                                                                                                                                                                                                                                                                                                                                                                                                                                                                                                                                                                                                                                                                                                                                                                                                                                                                                                                                                                                                                                                                                                                                                                                                                                                                                                                                                                                                                                                                              \n",
       "0  Waterview Cabin has a large fenced yard lot with lots of room for kids and pets, a fire pit, a deck with a small lake view perfect for watching the sun set, and a cozy, comfortable interior. Boat ramps and beaches are just a few minutes drive away!                                                                                                                                                                                                                                                                                                                                                                                                                                                                                                                                                                                                                                                                                                                                                                                                                                                                                                                                                                                                                                                                                                                                                                                                                                                                                                                                                                                                                                                                                                                                                                                                                                                                                                                                                                                                                                                                                                                                                                                                                                                                                                                                                                                                                                                                                                                                                                                     \n",
       "0  My cozy,well kept, comfortable beach Condo # 1316 can sleep up to 6 persons (4 adults Max). It has1 bedroom, 1 bath, along with two bunkbeds (suitable for children ) and a comfortable sofa sleleper. It is designed for maximum comfort! \\n\\nThis is an awesome place to retreat and it offers all of the luxuries that you would wish for while on vacation. Newly updated in March 2016, it has new bath towels, rugs, memory foam toppers on beds makes for excellent sleeping after a full day in the sun! Fully stocked kitchen with a full size refrigerator and a stove with an oven. A kitchen that includes all of the cooking tools you require for a home cooked meal while on the road. The living room has comfortable furniture for relaxing. Your Condo has two wall mounted Flat Screened TV's, one in the bedroom and one in the living room. Last, but certainly not least is an excellent balcony with Stunning views!! It has bar height Chairs so you may sit and relax while overlooking the ocean and beach. The Condo community has two full sized swimming pools, and one kiddie pool. One of the pools is heated during the cooler winter months. There are 3 covered BBQ areas, and plenty of parking. \\n\\nCorpus Christi boasts of World Class Kite Surfing, World Class Fishing, and excellent shopping, bars, and restaurants. Villa del Sol Condominiums are located on the North Beach and with a short walk on the beach you will find quality restaurants, bars, and shopping. You and your travel companions will marvel at the beauty and splendor of the Texas Gulf Coast. Come relax on the Beach, enjoy the Sun, and Ocean, but enjoy your stay in a true HOME away from home in this cozy, charming condo located right on the beach!                                                                                                                                                                                                                                                                                                                                                                                                                                                                                                                                                                                                                                                                                                                                                                                                                                                              \n",
       "0  Each room in this 2 bedroom/1 bath retreat is designed to leave you with a warm coastal feeling allowing you to enjoy your space when not on the beach enjoying the sun. Your weekend oasis is located on the Gulf of Mexico side of the island and just steps away from the beach. Whether you like to fish, workout or just relax you can enjoy the serene feeling of both the Gulf of Mexico and Galveston Bay. You will love the high end mattress in both bedrooms and close proximity to all entertainment.                                                                                                                                                                                                                                                                                                                                                                                                                                                                                                                                                                                                                                                                                                                                                                                                                                                                                                                                                                                                                                                                                                                                                                                                                                                                                                                                                                                                                                                                                                                                                                                                                                                                                                                                                                                                                                                                                                                                                                                                                                                                                                                            \n",
       "0  Newly remodeled in March of 2014, our beautiful luxury condo can sleep up to 6 persons (4 adults Max). It has 1 private bedroom with a New Queen bed, 1 bath,two bunkbeds located in the hallway (suitable for children ) and a plush leather sofa sleleper. It is designed for maximum comfort. New stainless steel full size refrigerator and stove, a microwave, New towels, rugs and includes memory foam toppers on all beds including the Sofa Sleeper.\\n\\nThis is a Christian retreat that offers all of the luxuries that you would wish for while on vacation. All bedding is plush, new, and makes for excellent sleeping after a full day in the sun! A kitchen with a full size stainless steel refrigerator, stove with oven and includes all of the cooking tools you require for a home cooked meal while on the road. The living room has plush large comfortable furniture for relaxing. Your Condo has two wall mounted Flat Screened TV's, one smart TV in the bedroom and one 40 in the living room. Last, but certainly not least is an excellent balcony with 2 bar height Chairs, 2 chairs and a table, so you may sit and relax while overlooking the ocean and beach. The Condo community has two full sized swimming pools, and one kiddie pool. One of the pools is heated during the cooler winter months. There are 3 covered BBQ areas, and plenty of parking. Corpus Christi boasts of World Class Kite Surfing, World Class Fishing, and excellent shopping, bars, and restaurants. Villa del Sol Condominiums are located on the North Beach and with a short walk on the beach you will find quality restaurants, bars, and shopping. You and your travel companions will marvel at the beauty and splendor of the Texas Gulf Coast. Come relax on the Beach, enjoy the Sun, and Ocean, but enjoy your stay in a true HOME away from home in this Tropical Blue Getaway located right on the beach!                                                                                                                                                                                                                                                                                                                                                                                                                                                                                                                                                                                                                                                                                                       \n",
       "0  My place is close to The Beach and fun in the Sun. Youll love my place because of the comfy beds and coziness, the high ceilings and the perfect location with breath taking views.. My place is good for couples, solo adventurers, business travelers, families (with kids), big groups, and furry friends (pets) with deposit.\\nNew furniture through most of the house and fully stocked kitchen. Access the wrap around balconies from every room. large, clean bathrooms and ocean view from upstairs bedroom                                                                                                                                                                                                                                                                                                                                                                                                                                                                                                                                                                                                                                                                                                                                                                                                                                                                                                                                                                                                                                                                                                                                                                                                                                                                                                                                                                                                                                                                                                                                                                                                                                                                                                                                                                                                                                                                                                                                                                                                                                                                                                                         \n",
       "0  Looking for a newer vacation home with a great kitchen and 4 (yes 4!) decks to see all angles of the Gulf? This is your spot to book then! Excellent location just a couple houses down from the beach walkway on a quiet side street in the community of Surfside Beach. Enjoy the seashell covered beach while basking in the sun all day and then stroll back to enjoy a fabulous meal together on the large main level deck or at the dining table. 3 large bedrooms are all outfitted with a Queen size bed with luxury hotel grade linens. The upstairs Master and second Mater bedrooms each have their own private full bathrooms and private decks. Bedroom #3 is the largest offering some extra room to throw a sleeping bag or air mattress on the floor for the kiddies and still not be cramped. 3 full bathrooms are in this sea side beach home.\\r\\nIt is easy to enjoy all the close-by amenities Surfside Beach has to offer including multiple restaurants, several bars, and even a crabbing pier located across the street!\\r\\n**All reservations include $ liability protection and $10,000 damage insurance - No Security Deposit Required!\\r\\n**NOTE: Reservations for Spring Break (month of March), Memorial Day weekend, Fourth of July, Labor Day weekend, Thanksgiving, and Christmas, and New Years all require a minimum 4 day reservation. Reservations between June 1st and September 1st all require a minimum 3 day reservation.\\r\\n**Absolutely No Prom or Graduation parties permitted, please.\\r\\nTHE 979 VACATION PROPERTY SERVICES ADVANTAGE:\\r\\nThis property is 979 Certified. All photos, amenities, calendar, and rates are 100% accurate to the best of our knowledge. We ensure our homes are completely cleaned after each guest stay, ensuring your stay is nothing short of spectacular. In addition, all of our homes feature hotel-quality/high thread count on all sheets, bedding, and bath towels. When you rent a 979 home, you'll also receive the comforts of home with a starter supply of shampoo, shower gel, conditioner, toilet paper and paper towels, dishwasher and clothes washer pods. We want your stay to be as easy as you do and we make every effort to delight.\\r\\nEASY CHECK-IN:\\r\\nAnd we make it easy to stay with us! Access the home with a unique lock code that we give only to you via text and email.\\r\\n979 VACATION PROPERTY SERVICES:\\r\\nAll 979 Vacation Property Services rental home follow local and state tax rules. Each reservation includes applicable taxes, a cleaning fee, and a Property Damage Protection policy for your peace of mind.   \n",
       "0  Classy beach front pad. Two balcony views of Gulf of Mexico. Observation nest on third patio with amazing panoramic view of entire beach front. This lovely town home has a private patio with hot tub, grill and room for entertainment. Nestled right across the street from SeaWall. You will fall in love waking up to waves, sand and sun.                                                                                                                                                                                                                                                                                                                                                                                                                                                                                                                                                                                                                                                                                                                                                                                                                                                                                                                                                                                                                                                                                                                                                                                                                                                                                                                                                                                                                                                                                                                                                                                                                                                                                                                                                                                                                                                                                                                                                                                                                                                                                                                                                                                                                                                                                              \n",
       "0  You may call us AC866 n. Gulf and Bay views from this signature resort building. 2 level living includes 2 bedrooms, with King bed, queen bed and private bathrooms. Upstairs is kitchen with beautiful maple cabinets and all the amenities expected plus more. New large flat panel TV. This building has it all, pool and hot tub new in 2007(refurbished 2016), exercise room, sun deck,tennis courts, racquetball courts, table tennis, \\nsauna, and a short walk thru private entrance to beach.                                                                                                                                                                                                                                                                                                                                                                                                                                                                                                                                                                                                                                                                                                                                                                                                                                                                                                                                                                                                                                                                                                                                                                                                                                                                                                                                                                                                                                                                                                                                                                                                                                                                                                                                                                                                                                                                                                                                                                                                                                                                                                                                       \n",
       "0  Beach Close, 3 bedroom, 2 bathrooms, sleeps 10. Beachy comfortable with a spacious great room. King bed in the master, 1 Queens, 1 full, 2 twins and a Queen sleeper sectional sofa. We are a 4 minute walk to the beach. Pet friendly &amp; no size or weight limit. Gated sun deck. In town, Pool onsite. Large lot with 3 units,bring the whole family rent all 3 units.Lots of Parking, boats too.                                                                                                                                                                                                                                                                                                                                                                                                                                                                                                                                                                                                                                                                                                                                                                                                                                                                                                                                                                                                                                                                                                                                                                                                                                                                                                                                                                                                                                                                                                                                                                                                                                                                                                                                                                                                                                                                                                                                                                                                                                                                                                                                                                                                                                       \n",
       "0  Enjoy a relaxing stay in our large and beautiful condo! All of the comforts of home and only steps away from the sand. Relax on the very spacious balcony while you take in the awesome scenery. On your way back from the beach, enjoy a dip in one of the 3 pools or 3 hot tubs. Too much water? The complex features 4 tennis courts and a shuffleboard court at your disposal. Too much sun? We have TVs in each bedroom and a huge one in the living room. Come stay with us. You'll love it!                                                                                                                                                                                                                                                                                                                                                                                                                                                                                                                                                                                                                                                                                                                                                                                                                                                                                                                                                                                                                                                                                                                                                                                                                                                                                                                                                                                                                                                                                                                                                                                                                                                                                                                                                                                                                                                                                                                                                                                                                                                                                                                                           \n",
       "0  Stay with us in this 3 bedroom, 2.5 bath townhouse with your very own personal hot tub oasis on the back patio on North Padre Island. Luxury leather sofa, Lounge on the upper deck in the oversized hammock and electric blinds. Full size kitchen, laundry room, plenty of flat screen TV's throughout. The beach is literally a walk away and you can hear the water call your name. Community pool for those who would rather sun bath all day. Schliterrbahn, Packery Channel for fishing and tons of shops.                                                                                                                                                                                                                                                                                                                                                                                                                                                                                                                                                                                                                                                                                                                                                                                                                                                                                                                                                                                                                                                                                                                                                                                                                                                                                                                                                                                                                                                                                                                                                                                                                                                                                                                                                                                                                                                                                                                                                                                                                                                                                                                            \n",
       "0  Enjoy a memorable vacation in this fully furnished, 2 bedroom/2 bath 6th Floor Condo (with elevator), comfortable for sleeping 6 people. The spacious living room is furnished with comfortable seating with cable TV. The kitchen is perfect for dining as it is equipped with pots, pans , flatware, coffee maker and dishwasher. Situated next to the Schlitterbahn Beach Resort and Water Park.\\n\\nSPI Permit \\nThe SPI tax rate is 17%\\nAirbnb is collecting 6%\\nIncluded in the nightly rate is 11%                                                                                                                                                                                                                                                                                                                                                                                                                                                                                                                                                                                                                                                                                                                                                                                                                                                                                                                                                                                                                                                                                                                                                                                                                                                                                                                                                                                                                                                                                                                                                                                                                                                                                                                                                                                                                                                                                                                                                                                                                                                                                                                                    \n",
       "\n",
       "                                                            title  \\\n",
       "0  Wilson Beach House. Fun in the SUN                               \n",
       "0  Aransas Pass Get-a-Way                                           \n",
       "0  Beach Front Condo-Corpus Christi                                 \n",
       "0  NEW! 2BR Corpus Christi Condo - Minutes from Beach!              \n",
       "0  Wilson Beach House. Fun in the SUN                               \n",
       "0  Oasis with Hot Tub North Padre 3 bdrm & Loft                     \n",
       "0  Cozy Corpus Beach Condo #1316                                    \n",
       "0  E Lee Paradise Pad                                               \n",
       "0  Family (& Pet) Friendly Lake House                               \n",
       "0  Cozy Corpus Beach Condo #1316                                    \n",
       "0  Luxury Retreat! As Seen on HGTV - MAGE Beach Haven               \n",
       "0  Beach Front Condo-Corpus Christi                                 \n",
       "0  Paradise on the Beach perfect water views                        \n",
       "0  Phoenix Rising... A Few Steps to the shores of Surfside Beach!   \n",
       "0  E Lee Paradise Pad                                               \n",
       "0  Great 10th Floor Gulf views in Premier complex                   \n",
       "0  Green House*Beach Close* Pool* Pets R Free                       \n",
       "0  Amazing views in this large, beachfront condo!                   \n",
       "0  Oasis with Hot Tub North Padre 3 bdrm & Loft                     \n",
       "0  More Fun in the Sun, 2/2 Next to Schlitterbahn                   \n",
       "\n",
       "                                                                       url  \n",
       "0  https://www.airbnb.com/rooms/17573576?location=Aransas%20Pass%2C%20TX    \n",
       "0  https://www.airbnb.com/rooms/16916649?location=Aransas%20Pass%2C%20TX    \n",
       "0  https://www.airbnb.com/rooms/2857736?location=Corpus%20Christi%2C%20TX   \n",
       "0  https://www.airbnb.com/rooms/19192987?location=Baffin%20Bay%2C%20TX      \n",
       "0  https://www.airbnb.com/rooms/17573576?location=Baffin%20Bay%2C%20TX      \n",
       "0  https://www.airbnb.com/rooms/16799245?location=Aransas%20Pass%2C%20TX    \n",
       "0  https://www.airbnb.com/rooms/13029704?location=Corpus%20Christi%2C%20TX  \n",
       "0  https://www.airbnb.com/rooms/19431862?location=Aransas%20Pass%2C%20TX    \n",
       "0  https://www.airbnb.com/rooms/10648577?location=Clifton%2C%20TX           \n",
       "0  https://www.airbnb.com/rooms/13029704?location=Aransas%20Pass%2C%20TX    \n",
       "0  https://www.airbnb.com/rooms/15123685?location=Bayou%20Vista%2C%20TX     \n",
       "0  https://www.airbnb.com/rooms/2857736?location=Aransas%20Pass%2C%20TX     \n",
       "0  https://www.airbnb.com/rooms/12954087?location=Angleton%2C%20TX          \n",
       "0  https://www.airbnb.com/rooms/19406684?location=Angleton%2C%20TX          \n",
       "0  https://www.airbnb.com/rooms/19431862?location=Baffin%20Bay%2C%20TX      \n",
       "0  https://www.airbnb.com/rooms/18196991?location=Brownsville%2C%20TX       \n",
       "0  https://www.airbnb.com/rooms/4393576?location=Aransas%20Pass%2C%20TX     \n",
       "0  https://www.airbnb.com/rooms/15055173?location=Brownsville%2C%20TX       \n",
       "0  https://www.airbnb.com/rooms/16799245?location=Baffin%20Bay%2C%20TX      \n",
       "0  https://www.airbnb.com/rooms/18932630?location=Brownsville%2C%20TX       "
      ]
     },
     "execution_count": 52,
     "metadata": {},
     "output_type": "execute_result"
    }
   ],
   "source": [
    "search_engine()"
   ]
  },
  {
   "cell_type": "code",
   "execution_count": null,
   "metadata": {},
   "outputs": [],
   "source": []
  }
 ],
 "metadata": {
  "kernelspec": {
   "display_name": "Python 3",
   "language": "python",
   "name": "python3"
  },
  "language_info": {
   "codemirror_mode": {
    "name": "ipython",
    "version": 3
   },
   "file_extension": ".py",
   "mimetype": "text/x-python",
   "name": "python",
   "nbconvert_exporter": "python",
   "pygments_lexer": "ipython3",
   "version": "3.6.3"
  }
 },
 "nbformat": 4,
 "nbformat_minor": 2
}
