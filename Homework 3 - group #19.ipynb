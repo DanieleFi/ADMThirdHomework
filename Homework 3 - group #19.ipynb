{
 "cells": [
  {
   "cell_type": "markdown",
   "metadata": {},
   "source": [
    "# Libraries"
   ]
  },
  {
   "cell_type": "code",
   "execution_count": 9,
   "metadata": {},
   "outputs": [],
   "source": [
    "#%% LIBRARIES\n",
    "import pandas as pd\n",
    "import numpy as np\n",
    "\n",
    "from collections import defaultdict\n",
    "#import re\n",
    "#import nltk\n",
    "import functions\n",
    "from nltk.corpus import stopwords \n",
    "from nltk.stem import PorterStemmer\n",
    "#from nltk.tokenize import sent_tokenize, word_tokenize\n",
    "from nltk.tokenize import RegexpTokenizer\n",
    "\n",
    "from sklearn.metrics.pairwise import cosine_similarity\n",
    "from heapq import heappush, nlargest\n",
    "\n",
    "#import enchant \n",
    "import pickle"
   ]
  },
  {
   "cell_type": "markdown",
   "metadata": {},
   "source": [
    "import importlib"
   ]
  },
  {
   "cell_type": "markdown",
   "metadata": {},
   "source": [
    "importlib.reload(functions)"
   ]
  },
  {
   "cell_type": "markdown",
   "metadata": {},
   "source": [
    "# Step 1: Data"
   ]
  },
  {
   "cell_type": "code",
   "execution_count": 10,
   "metadata": {},
   "outputs": [],
   "source": [
    "airbnb_data=pd.read_csv(\"Airbnb_Texas_Rentals.csv\",usecols=['average_rate_per_night', 'bedrooms_count', 'city',\n",
    "       'date_of_listing', 'description', 'latitude', 'longitude', 'title','url'],parse_dates=['date_of_listing'])"
   ]
  },
  {
   "cell_type": "code",
   "execution_count": 11,
   "metadata": {},
   "outputs": [
    {
     "data": {
      "text/plain": [
       "Index(['average_rate_per_night', 'bedrooms_count', 'city', 'date_of_listing',\n",
       "       'description', 'latitude', 'longitude', 'title', 'url'],\n",
       "      dtype='object')"
      ]
     },
     "execution_count": 11,
     "metadata": {},
     "output_type": "execute_result"
    }
   ],
   "source": [
    "airbnb_data.columns"
   ]
  },
  {
   "cell_type": "markdown",
   "metadata": {},
   "source": [
    "# Step 2: Create documents"
   ]
  },
  {
   "cell_type": "code",
   "execution_count": 12,
   "metadata": {},
   "outputs": [
    {
     "data": {
      "text/html": [
       "<div>\n",
       "<style>\n",
       "    .dataframe thead tr:only-child th {\n",
       "        text-align: right;\n",
       "    }\n",
       "\n",
       "    .dataframe thead th {\n",
       "        text-align: left;\n",
       "    }\n",
       "\n",
       "    .dataframe tbody tr th {\n",
       "        vertical-align: top;\n",
       "    }\n",
       "</style>\n",
       "<table border=\"1\" class=\"dataframe\">\n",
       "  <thead>\n",
       "    <tr style=\"text-align: right;\">\n",
       "      <th></th>\n",
       "      <th>average_rate_per_night</th>\n",
       "      <th>bedrooms_count</th>\n",
       "      <th>city</th>\n",
       "      <th>date_of_listing</th>\n",
       "      <th>description</th>\n",
       "      <th>latitude</th>\n",
       "      <th>longitude</th>\n",
       "      <th>title</th>\n",
       "      <th>url</th>\n",
       "    </tr>\n",
       "  </thead>\n",
       "  <tbody>\n",
       "    <tr>\n",
       "      <th>0</th>\n",
       "      <td>$27</td>\n",
       "      <td>2</td>\n",
       "      <td>Humble</td>\n",
       "      <td>2016-05-01</td>\n",
       "      <td>Welcome to stay in private room with queen bed...</td>\n",
       "      <td>30.020138</td>\n",
       "      <td>-95.293996</td>\n",
       "      <td>2 Private rooms/bathroom 10min from IAH airport</td>\n",
       "      <td>https://www.airbnb.com/rooms/18520444?location...</td>\n",
       "    </tr>\n",
       "    <tr>\n",
       "      <th>1</th>\n",
       "      <td>$149</td>\n",
       "      <td>4</td>\n",
       "      <td>San Antonio</td>\n",
       "      <td>2010-11-01</td>\n",
       "      <td>Stylish, fully remodeled home in upscale NW – ...</td>\n",
       "      <td>29.503068</td>\n",
       "      <td>-98.447688</td>\n",
       "      <td>Unique Location! Alamo Heights - Designer Insp...</td>\n",
       "      <td>https://www.airbnb.com/rooms/17481455?location...</td>\n",
       "    </tr>\n",
       "  </tbody>\n",
       "</table>\n",
       "</div>"
      ],
      "text/plain": [
       "  average_rate_per_night bedrooms_count         city date_of_listing  \\\n",
       "0                    $27              2       Humble      2016-05-01   \n",
       "1                   $149              4  San Antonio      2010-11-01   \n",
       "\n",
       "                                         description   latitude  longitude  \\\n",
       "0  Welcome to stay in private room with queen bed...  30.020138 -95.293996   \n",
       "1  Stylish, fully remodeled home in upscale NW – ...  29.503068 -98.447688   \n",
       "\n",
       "                                               title  \\\n",
       "0    2 Private rooms/bathroom 10min from IAH airport   \n",
       "1  Unique Location! Alamo Heights - Designer Insp...   \n",
       "\n",
       "                                                 url  \n",
       "0  https://www.airbnb.com/rooms/18520444?location...  \n",
       "1  https://www.airbnb.com/rooms/17481455?location...  "
      ]
     },
     "execution_count": 12,
     "metadata": {},
     "output_type": "execute_result"
    }
   ],
   "source": [
    "airbnb_data.head(2)"
   ]
  },
  {
   "cell_type": "code",
   "execution_count": 13,
   "metadata": {
    "scrolled": true
   },
   "outputs": [
    {
     "data": {
      "text/plain": [
       "(18259, 9)"
      ]
     },
     "execution_count": 13,
     "metadata": {},
     "output_type": "execute_result"
    }
   ],
   "source": [
    "airbnb_data.shape"
   ]
  },
  {
   "cell_type": "markdown",
   "metadata": {},
   "source": [
    "# Clean data"
   ]
  },
  {
   "cell_type": "code",
   "execution_count": 14,
   "metadata": {},
   "outputs": [
    {
     "data": {
      "text/plain": [
       "average_rate_per_night    28\n",
       "bedrooms_count             3\n",
       "city                       0\n",
       "date_of_listing            0\n",
       "description                2\n",
       "latitude                  34\n",
       "longitude                 34\n",
       "title                      3\n",
       "url                        0\n",
       "dtype: int64"
      ]
     },
     "execution_count": 14,
     "metadata": {},
     "output_type": "execute_result"
    }
   ],
   "source": [
    "# Check null values of the dataset\n",
    "airbnb_data.isnull().sum()\n",
    "#average_rate_per_night -> replace NAN with 0, convert to int\n",
    "#bedrooms_count -> There are only 3 records so we decided to replace NAN with a category based on the desciption if it's possible. \n",
    "#description, latitude, longitude, title -> replace NAN to 'Unknown'"
   ]
  },
  {
   "cell_type": "code",
   "execution_count": 15,
   "metadata": {},
   "outputs": [
    {
     "data": {
      "text/plain": [
       "average_rate_per_night    0\n",
       "bedrooms_count            0\n",
       "city                      0\n",
       "date_of_listing           0\n",
       "description               0\n",
       "latitude                  0\n",
       "longitude                 0\n",
       "title                     0\n",
       "url                       0\n",
       "dtype: int64"
      ]
     },
     "execution_count": 15,
     "metadata": {},
     "output_type": "execute_result"
    }
   ],
   "source": [
    "airbnb_data=functions.clean(airbnb_data)\n",
    "airbnb_data.isnull().sum()"
   ]
  },
  {
   "cell_type": "code",
   "execution_count": 16,
   "metadata": {},
   "outputs": [
    {
     "data": {
      "text/plain": [
       "(18259, 9)"
      ]
     },
     "execution_count": 16,
     "metadata": {},
     "output_type": "execute_result"
    }
   ],
   "source": [
    "airbnb_data.shape"
   ]
  },
  {
   "cell_type": "markdown",
   "metadata": {
    "scrolled": true
   },
   "source": [
    "#method is run only once at the beginning to make separate .tsv files\n",
    "functions.create_tsv_documents(airbnb_data)"
   ]
  },
  {
   "cell_type": "markdown",
   "metadata": {},
   "source": [
    "# Preprocessing\n",
    "\n",
    "1) Removing stop words\n",
    "\n",
    "2) Removing punctuation\n",
    "\n",
    "3) Stemming\n",
    "\n",
    "##### remove non english words and words Giulia chooses (room, price, airbnb) MOST often ones_?\n",
    "##### should we remove numbers__?"
   ]
  },
  {
   "cell_type": "markdown",
   "metadata": {},
   "source": [
    "# 3.1) Conjunctive query\n",
    "\n",
    "## 3.1.1) Create your index!"
   ]
  },
  {
   "cell_type": "markdown",
   "metadata": {},
   "source": [
    "#Building a vocabulary\n",
    "vocabulary,doc_vocabs=functions.build_vocabulary(airbnb_data)"
   ]
  },
  {
   "cell_type": "code",
   "execution_count": 21,
   "metadata": {},
   "outputs": [
    {
     "data": {
      "text/plain": [
       "11717"
      ]
     },
     "execution_count": 21,
     "metadata": {},
     "output_type": "execute_result"
    }
   ],
   "source": [
    "len(vocabulary) #11717"
   ]
  },
  {
   "cell_type": "markdown",
   "metadata": {},
   "source": [
    "#called only once\n",
    "functions.save_vocabulary(vocabulary,'vocabulary')"
   ]
  },
  {
   "cell_type": "markdown",
   "metadata": {},
   "source": [
    "# Compute an inverted index"
   ]
  },
  {
   "cell_type": "markdown",
   "metadata": {},
   "source": [
    "#compute an inverted index\n",
    "inverted_idx=functions.compute_inverted_idx(doc_vocabs,vocabulary)"
   ]
  },
  {
   "cell_type": "code",
   "execution_count": 23,
   "metadata": {},
   "outputs": [],
   "source": [
    "#functions.save_inverted_idx(inverted_idx)\n",
    "#inverted_index=functions.load_inverted_idx()"
   ]
  },
  {
   "cell_type": "code",
   "execution_count": 24,
   "metadata": {},
   "outputs": [],
   "source": [
    "vocabulary = pickle.load(open(\"vocabulary.p\", \"rb\"))\n",
    "inverted_idx = pickle.load(open(\"inverted_idx.p\", \"rb\"))"
   ]
  },
  {
   "cell_type": "code",
   "execution_count": 25,
   "metadata": {},
   "outputs": [],
   "source": [
    "# we can clean our vocab more for 2nd part"
   ]
  },
  {
   "cell_type": "markdown",
   "metadata": {},
   "source": [
    "# 3.1.2) Execute the query"
   ]
  },
  {
   "cell_type": "code",
   "execution_count": 27,
   "metadata": {},
   "outputs": [
    {
     "name": "stdout",
     "output_type": "stream",
     "text": [
      "sun bedroom private HDTV\n",
      "[9058, 8140, 9988, 15438]\n"
     ]
    },
    {
     "data": {
      "text/html": [
       "<div>\n",
       "<style>\n",
       "    .dataframe thead tr:only-child th {\n",
       "        text-align: right;\n",
       "    }\n",
       "\n",
       "    .dataframe thead th {\n",
       "        text-align: left;\n",
       "    }\n",
       "\n",
       "    .dataframe tbody tr th {\n",
       "        vertical-align: top;\n",
       "    }\n",
       "</style>\n",
       "<table border=\"1\" class=\"dataframe\">\n",
       "  <thead>\n",
       "    <tr style=\"text-align: right;\">\n",
       "      <th></th>\n",
       "      <th>city</th>\n",
       "      <th>description</th>\n",
       "      <th>title</th>\n",
       "      <th>url</th>\n",
       "    </tr>\n",
       "  </thead>\n",
       "  <tbody>\n",
       "    <tr>\n",
       "      <th>0</th>\n",
       "      <td>Dallas</td>\n",
       "      <td>Spacious Bedroom w Queen-size bed, sun room, and private bathroom in a century-old house near the center of Dallas. 4 miles from Convention Center and beyond via free Dlink, or buses &amp;amp; light rail. 3 Blocks from Bishop Arts District. HDTV/Internet</td>\n",
       "      <td>Vintage House Near Center of Dallas</td>\n",
       "      <td>https://www.airbnb.com/rooms/1488809?location=Cedar%20Hill%2C%20TX</td>\n",
       "    </tr>\n",
       "    <tr>\n",
       "      <th>0</th>\n",
       "      <td>Dallas</td>\n",
       "      <td>Spacious Bedroom w Queen-size bed, sun room, and private bathroom in a century-old house near the center of Dallas. 4 miles from Convention Center and beyond via free Dlink, or buses &amp;amp; light rail. 3 Blocks from Bishop Arts District. HDTV/Internet</td>\n",
       "      <td>Vintage House Near Center of Dallas</td>\n",
       "      <td>https://www.airbnb.com/rooms/1488809?location=Carrollton%2C%20TX</td>\n",
       "    </tr>\n",
       "    <tr>\n",
       "      <th>0</th>\n",
       "      <td>Dallas</td>\n",
       "      <td>Spacious Bedroom w Queen-size bed, sun room, and private bathroom in a century-old house near the center of Dallas. 4 miles from Convention Center and beyond via free Dlink, or buses &amp;amp; light rail. 3 Blocks from Bishop Arts District. HDTV/Internet</td>\n",
       "      <td>Vintage House Near Center of Dallas</td>\n",
       "      <td>https://www.airbnb.com/rooms/1488809?location=Brazos%20River%2C%20TX</td>\n",
       "    </tr>\n",
       "    <tr>\n",
       "      <th>0</th>\n",
       "      <td>Dallas</td>\n",
       "      <td>Spacious Bedroom w Queen-size bed, sun room, and private bathroom in a century-old house near the center of Dallas. 4 miles from Convention Center and beyond via free Dlink, or buses &amp;amp; light rail. 3 Blocks from Bishop Arts District. HDTV/Internet</td>\n",
       "      <td>Vintage House Near Center of Dallas</td>\n",
       "      <td>https://www.airbnb.com/rooms/1488809?location=Arlington%2C%20TX</td>\n",
       "    </tr>\n",
       "  </tbody>\n",
       "</table>\n",
       "</div>"
      ],
      "text/plain": [
       "     city  \\\n",
       "0  Dallas   \n",
       "0  Dallas   \n",
       "0  Dallas   \n",
       "0  Dallas   \n",
       "\n",
       "                                                                                                                                                                                                                                                  description  \\\n",
       "0  Spacious Bedroom w Queen-size bed, sun room, and private bathroom in a century-old house near the center of Dallas. 4 miles from Convention Center and beyond via free Dlink, or buses &amp; light rail. 3 Blocks from Bishop Arts District. HDTV/Internet   \n",
       "0  Spacious Bedroom w Queen-size bed, sun room, and private bathroom in a century-old house near the center of Dallas. 4 miles from Convention Center and beyond via free Dlink, or buses &amp; light rail. 3 Blocks from Bishop Arts District. HDTV/Internet   \n",
       "0  Spacious Bedroom w Queen-size bed, sun room, and private bathroom in a century-old house near the center of Dallas. 4 miles from Convention Center and beyond via free Dlink, or buses &amp; light rail. 3 Blocks from Bishop Arts District. HDTV/Internet   \n",
       "0  Spacious Bedroom w Queen-size bed, sun room, and private bathroom in a century-old house near the center of Dallas. 4 miles from Convention Center and beyond via free Dlink, or buses &amp; light rail. 3 Blocks from Bishop Arts District. HDTV/Internet   \n",
       "\n",
       "                                 title  \\\n",
       "0  Vintage House Near Center of Dallas   \n",
       "0  Vintage House Near Center of Dallas   \n",
       "0  Vintage House Near Center of Dallas   \n",
       "0  Vintage House Near Center of Dallas   \n",
       "\n",
       "                                                                    url  \n",
       "0  https://www.airbnb.com/rooms/1488809?location=Cedar%20Hill%2C%20TX    \n",
       "0  https://www.airbnb.com/rooms/1488809?location=Carrollton%2C%20TX      \n",
       "0  https://www.airbnb.com/rooms/1488809?location=Brazos%20River%2C%20TX  \n",
       "0  https://www.airbnb.com/rooms/1488809?location=Arlington%2C%20TX       "
      ]
     },
     "execution_count": 27,
     "metadata": {},
     "output_type": "execute_result"
    }
   ],
   "source": [
    "functions.search_engine(vocabulary,inverted_idx)# sun bedroom private HDTV"
   ]
  },
  {
   "cell_type": "markdown",
   "metadata": {},
   "source": [
    "# 3.2) Conjunctive query & Ranking score \n",
    "\n",
    "## 3.2.1) Inverted index \n",
    "\n",
    "### Calculation of tf-idf values"
   ]
  },
  {
   "cell_type": "code",
   "execution_count": null,
   "metadata": {},
   "outputs": [],
   "source": [
    "#tf_idf_dic=calculate_tf_idf(airbnb_data,inverted_idx,vocabulary)\n",
    "\n",
    "#inverted_idx2=compute_inverted_idx2(inverted_idx,vocabulary,tf_idf_dic)\n",
    "\n",
    "#inverted_idx2[0]\n",
    "\n",
    "#pickle.dump(inverted_idx2, open(\"inverted_idx2.p\", \"wb\"))  # save it into a file # for future usage it can be just imported "
   ]
  },
  {
   "cell_type": "markdown",
   "metadata": {},
   "source": [
    "## 3.2.2) Execute the query"
   ]
  },
  {
   "cell_type": "code",
   "execution_count": 69,
   "metadata": {},
   "outputs": [],
   "source": [
    "inverted_idx2 = pickle.load(open(\"inverted_idx2.p\", \"rb\"))"
   ]
  },
  {
   "cell_type": "code",
   "execution_count": 70,
   "metadata": {},
   "outputs": [
    {
     "name": "stdout",
     "output_type": "stream",
     "text": [
      "sun private room\n",
      "[17539, 9988, 16391, 17416, 2569, 269, 13205, 2847, 8997, 3367, 8872, 8747, 15918, 6705, 4405, 7102, 12867, 8140, 13773, 15438, 5454, 6875, 11362, 9058, 2151, 872, 1899, 13047, 18163, 17271, 12024]\n"
     ]
    },
    {
     "data": {
      "text/html": [
       "<div>\n",
       "<style>\n",
       "    .dataframe thead tr:only-child th {\n",
       "        text-align: right;\n",
       "    }\n",
       "\n",
       "    .dataframe thead th {\n",
       "        text-align: left;\n",
       "    }\n",
       "\n",
       "    .dataframe tbody tr th {\n",
       "        vertical-align: top;\n",
       "    }\n",
       "</style>\n",
       "<table border=\"1\" class=\"dataframe\">\n",
       "  <thead>\n",
       "    <tr style=\"text-align: right;\">\n",
       "      <th></th>\n",
       "      <th>title</th>\n",
       "      <th>description</th>\n",
       "      <th>city</th>\n",
       "      <th>url</th>\n",
       "      <th>similarity</th>\n",
       "    </tr>\n",
       "  </thead>\n",
       "  <tbody>\n",
       "    <tr>\n",
       "      <th>0</th>\n",
       "      <td>Spacious Private guest room w/sunroom - woman only</td>\n",
       "      <td>3 minute drive to Mopac and 15 minutes to Downtown, close to Bike Trails and Lady Bird Johnson's Bird Park. My place is a 5 minute walk to boutique-style Escarpment Village Shopping with grocery, a Starbucks, higher end dining, or grab an ice cream or burger.\\n\\nYoull enjoy the coziness of the private master bedroom, private bath, and French door entry to the sun room, with view of beautiful trees in backyard. My place is great for couples, solo adventurers, or business travelers.</td>\n",
       "      <td>Austin</td>\n",
       "      <td>https://www.airbnb.com/rooms/18868758?location=Bee%20Cave%2C%20TX</td>\n",
       "      <td>0.97</td>\n",
       "    </tr>\n",
       "    <tr>\n",
       "      <th>0</th>\n",
       "      <td>Private Room in Warm Boutique Home</td>\n",
       "      <td>Congratulations on finding the perfect place to stay. We have a Private room with a ceiling fan, full size closet, wireless access, access to swimming pool, washer and dryer, private patio for relaxing in the shade or laying out in the sun, close to Hwy (PHONE NUMBER HIDDEN), and the Dell Campus. austin is 15 minutes away and COTA is 30 minutes.</td>\n",
       "      <td>Round Rock</td>\n",
       "      <td>https://www.airbnb.com/rooms/7672843?location=Coupland%2C%20TX</td>\n",
       "      <td>0.97</td>\n",
       "    </tr>\n",
       "    <tr>\n",
       "      <th>0</th>\n",
       "      <td>Cozy/Private Room, Minutes to Downtown!</td>\n",
       "      <td>Cozy private room, very close to the airport and 7 miles from downtown Austin. The room is simple but equipped with everything you would need for a comfortable stay. Double bed, two bed side tables, full closet to tuck away your belongings in. The full bath is shared with another air bnb listing. Bathroom has toiletries and hairdryer. Feel free to use our living room, dining area and kitchen. We also have a nice back patio great for soaking up sun or night drinking.</td>\n",
       "      <td>Austin</td>\n",
       "      <td>https://www.airbnb.com/rooms/17423956?location=Austin%2C%20TX</td>\n",
       "      <td>0.97</td>\n",
       "    </tr>\n",
       "    <tr>\n",
       "      <th>0</th>\n",
       "      <td>Comfy, Quiet Private Room with Late Check-Out</td>\n",
       "      <td>Our place is very quiet and clean. Comfy queen sized bed and black-out curtain on the window so you can sleep in without with sun waking you.\\n\\nWe are off the beaten path, in a quiet neighborhood east of Austin. A short drive 15-30 minutes (depending on where you are headed and when) to a ton of great Austin sites and sounds. \\n\\nOur place is perfect if you are looking for a comfortable, clean, quiet private room.</td>\n",
       "      <td>Austin</td>\n",
       "      <td>https://www.airbnb.com/rooms/16827574?location=Bastrop%20County%2C%20TX</td>\n",
       "      <td>0.96</td>\n",
       "    </tr>\n",
       "    <tr>\n",
       "      <th>0</th>\n",
       "      <td>Comfy, Quiet Private Room with Late Check-Out</td>\n",
       "      <td>Our place is very quiet and clean. Comfy queen sized bed and black-out curtain on the window so you can sleep in without with sun waking you.\\n\\nWe are off the beaten path, in a quiet neighborhood east of Austin. A short drive 15-30 minutes (depending on where you are headed and when) to a ton of great Austin sites and sounds. \\n\\nOur place is perfect if you are looking for a comfortable, clean, quiet private room.</td>\n",
       "      <td>Austin</td>\n",
       "      <td>https://www.airbnb.com/rooms/16827574?location=Cedar%20Creek%2C%20TX</td>\n",
       "      <td>0.96</td>\n",
       "    </tr>\n",
       "  </tbody>\n",
       "</table>\n",
       "</div>"
      ],
      "text/plain": [
       "                                                title  \\\n",
       "0  Spacious Private guest room w/sunroom - woman only   \n",
       "0  Private Room in Warm Boutique Home                   \n",
       "0  Cozy/Private Room, Minutes to Downtown!              \n",
       "0  Comfy, Quiet Private Room with Late Check-Out        \n",
       "0  Comfy, Quiet Private Room with Late Check-Out        \n",
       "\n",
       "                                                                                                                                                                                                                                                                                                                                                                                                                                                                                              description  \\\n",
       "0  3 minute drive to Mopac and 15 minutes to Downtown, close to Bike Trails and Lady Bird Johnson's Bird Park. My place is a 5 minute walk to boutique-style Escarpment Village Shopping with grocery, a Starbucks, higher end dining, or grab an ice cream or burger.\\n\\nYoull enjoy the coziness of the private master bedroom, private bath, and French door entry to the sun room, with view of beautiful trees in backyard. My place is great for couples, solo adventurers, or business travelers.   \n",
       "0  Congratulations on finding the perfect place to stay. We have a Private room with a ceiling fan, full size closet, wireless access, access to swimming pool, washer and dryer, private patio for relaxing in the shade or laying out in the sun, close to Hwy (PHONE NUMBER HIDDEN), and the Dell Campus. austin is 15 minutes away and COTA is 30 minutes.                                                                                                                                              \n",
       "0  Cozy private room, very close to the airport and 7 miles from downtown Austin. The room is simple but equipped with everything you would need for a comfortable stay. Double bed, two bed side tables, full closet to tuck away your belongings in. The full bath is shared with another air bnb listing. Bathroom has toiletries and hairdryer. Feel free to use our living room, dining area and kitchen. We also have a nice back patio great for soaking up sun or night drinking.                   \n",
       "0  Our place is very quiet and clean. Comfy queen sized bed and black-out curtain on the window so you can sleep in without with sun waking you.\\n\\nWe are off the beaten path, in a quiet neighborhood east of Austin. A short drive 15-30 minutes (depending on where you are headed and when) to a ton of great Austin sites and sounds. \\n\\nOur place is perfect if you are looking for a comfortable, clean, quiet private room.                                                                       \n",
       "0  Our place is very quiet and clean. Comfy queen sized bed and black-out curtain on the window so you can sleep in without with sun waking you.\\n\\nWe are off the beaten path, in a quiet neighborhood east of Austin. A short drive 15-30 minutes (depending on where you are headed and when) to a ton of great Austin sites and sounds. \\n\\nOur place is perfect if you are looking for a comfortable, clean, quiet private room.                                                                       \n",
       "\n",
       "         city  \\\n",
       "0  Austin       \n",
       "0  Round Rock   \n",
       "0  Austin       \n",
       "0  Austin       \n",
       "0  Austin       \n",
       "\n",
       "                                                                       url  \\\n",
       "0  https://www.airbnb.com/rooms/18868758?location=Bee%20Cave%2C%20TX         \n",
       "0  https://www.airbnb.com/rooms/7672843?location=Coupland%2C%20TX            \n",
       "0  https://www.airbnb.com/rooms/17423956?location=Austin%2C%20TX             \n",
       "0  https://www.airbnb.com/rooms/16827574?location=Bastrop%20County%2C%20TX   \n",
       "0  https://www.airbnb.com/rooms/16827574?location=Cedar%20Creek%2C%20TX      \n",
       "\n",
       "   similarity  \n",
       "0  0.97        \n",
       "0  0.97        \n",
       "0  0.97        \n",
       "0  0.96        \n",
       "0  0.96        "
      ]
     },
     "execution_count": 70,
     "metadata": {},
     "output_type": "execute_result"
    }
   ],
   "source": [
    "functions.search_engine2(5,vocabulary,inverted_idx,inverted_idx2)# sun private room"
   ]
  },
  {
   "cell_type": "code",
   "execution_count": 75,
   "metadata": {},
   "outputs": [
    {
     "data": {
      "text/plain": [
       "(2, 9)"
      ]
     },
     "execution_count": 75,
     "metadata": {},
     "output_type": "execute_result"
    }
   ],
   "source": [
    "airbnb_data[airbnb_data.url=='https://www.airbnb.com/rooms/16827574'].shape"
   ]
  },
  {
   "cell_type": "code",
   "execution_count": null,
   "metadata": {},
   "outputs": [],
   "source": []
  },
  {
   "cell_type": "code",
   "execution_count": null,
   "metadata": {},
   "outputs": [],
   "source": [
    "# should I do this"
   ]
  },
  {
   "cell_type": "code",
   "execution_count": 38,
   "metadata": {},
   "outputs": [
    {
     "data": {
      "text/plain": [
       "'https://www.airbnb.com/rooms/17481455'"
      ]
     },
     "execution_count": 38,
     "metadata": {},
     "output_type": "execute_result"
    }
   ],
   "source": [
    "airbnb_data.url[1].split('?')[0]"
   ]
  },
  {
   "cell_type": "code",
   "execution_count": 41,
   "metadata": {},
   "outputs": [
    {
     "data": {
      "text/plain": [
       "(18259, 9)"
      ]
     },
     "execution_count": 41,
     "metadata": {},
     "output_type": "execute_result"
    }
   ],
   "source": [
    "airbnb_data.shape"
   ]
  },
  {
   "cell_type": "code",
   "execution_count": null,
   "metadata": {},
   "outputs": [],
   "source": []
  },
  {
   "cell_type": "code",
   "execution_count": 71,
   "metadata": {},
   "outputs": [],
   "source": [
    "airbnb_data.url=airbnb_data.url.apply(lambda x:x.split('?')[0])"
   ]
  },
  {
   "cell_type": "code",
   "execution_count": 68,
   "metadata": {},
   "outputs": [
    {
     "data": {
      "text/plain": [
       "(11532, 9)"
      ]
     },
     "execution_count": 68,
     "metadata": {},
     "output_type": "execute_result"
    }
   ],
   "source": [
    "airbnb_data.drop_duplicates(subset='url').shape"
   ]
  },
  {
   "cell_type": "code",
   "execution_count": 53,
   "metadata": {},
   "outputs": [],
   "source": [
    "x=airbnb_data.url.apply(lambda x:x.split('?')[0])"
   ]
  },
  {
   "cell_type": "code",
   "execution_count": 54,
   "metadata": {},
   "outputs": [
    {
     "data": {
      "text/plain": [
       "'https://www.airbnb.com/rooms/17481455?location=Cibolo%2C%20TX'"
      ]
     },
     "execution_count": 54,
     "metadata": {},
     "output_type": "execute_result"
    }
   ],
   "source": [
    "airbnb_data.url[1]"
   ]
  },
  {
   "cell_type": "code",
   "execution_count": null,
   "metadata": {},
   "outputs": [],
   "source": []
  },
  {
   "cell_type": "code",
   "execution_count": null,
   "metadata": {},
   "outputs": [],
   "source": []
  }
 ],
 "metadata": {
  "kernelspec": {
   "display_name": "Python 3",
   "language": "python",
   "name": "python3"
  },
  "language_info": {
   "codemirror_mode": {
    "name": "ipython",
    "version": 3
   },
   "file_extension": ".py",
   "mimetype": "text/x-python",
   "name": "python",
   "nbconvert_exporter": "python",
   "pygments_lexer": "ipython3",
   "version": "3.6.3"
  }
 },
 "nbformat": 4,
 "nbformat_minor": 2
}
