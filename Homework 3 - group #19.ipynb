{
 "cells": [
  {
   "cell_type": "markdown",
   "metadata": {},
   "source": [
    "# Libraries"
   ]
  },
  {
   "cell_type": "code",
   "execution_count": 1,
   "metadata": {},
   "outputs": [],
   "source": [
    "#%% LIBRARIES\n",
    "import pandas as pd\n",
    "import numpy as np\n",
    "\n",
    "from collections import defaultdict\n",
    "import functions\n",
    "from nltk.corpus import stopwords \n",
    "from nltk.stem import PorterStemmer\n",
    "from nltk.tokenize import RegexpTokenizer\n",
    "\n",
    "from sklearn.metrics.pairwise import cosine_similarity\n",
    "from heapq import heappush, nlargest\n",
    "import pickle\n",
    "\n",
    "from ipywidgets import widgets\n",
    "from IPython.display import Image\n",
    "\n",
    "from collections import OrderedDict"
   ]
  },
  {
   "cell_type": "code",
   "execution_count": 23,
   "metadata": {},
   "outputs": [
    {
     "data": {
      "text/plain": [
       "<module 'functions' from 'C:\\\\Users\\\\Dusica\\\\ADMThirdHomework\\\\functions.py'>"
      ]
     },
     "execution_count": 23,
     "metadata": {},
     "output_type": "execute_result"
    }
   ],
   "source": [
    "import importlib\n",
    "importlib.reload(functions)"
   ]
  },
  {
   "cell_type": "markdown",
   "metadata": {},
   "source": [
    "# Step 1: Data"
   ]
  },
  {
   "cell_type": "code",
   "execution_count": 3,
   "metadata": {},
   "outputs": [],
   "source": [
    "airbnb_data=pd.read_csv(\"Airbnb_Texas_Rentals.csv\",usecols=['average_rate_per_night', 'bedrooms_count', 'city',\n",
    "       'date_of_listing', 'description', 'latitude', 'longitude', 'title','url'],parse_dates=['date_of_listing'])"
   ]
  },
  {
   "cell_type": "code",
   "execution_count": 4,
   "metadata": {},
   "outputs": [
    {
     "data": {
      "text/plain": [
       "Index(['average_rate_per_night', 'bedrooms_count', 'city', 'date_of_listing',\n",
       "       'description', 'latitude', 'longitude', 'title', 'url'],\n",
       "      dtype='object')"
      ]
     },
     "execution_count": 4,
     "metadata": {},
     "output_type": "execute_result"
    }
   ],
   "source": [
    "airbnb_data.columns"
   ]
  },
  {
   "cell_type": "markdown",
   "metadata": {},
   "source": [
    "# Step 2: Create documents"
   ]
  },
  {
   "cell_type": "code",
   "execution_count": 5,
   "metadata": {},
   "outputs": [
    {
     "data": {
      "text/html": [
       "<div>\n",
       "<style>\n",
       "    .dataframe thead tr:only-child th {\n",
       "        text-align: right;\n",
       "    }\n",
       "\n",
       "    .dataframe thead th {\n",
       "        text-align: left;\n",
       "    }\n",
       "\n",
       "    .dataframe tbody tr th {\n",
       "        vertical-align: top;\n",
       "    }\n",
       "</style>\n",
       "<table border=\"1\" class=\"dataframe\">\n",
       "  <thead>\n",
       "    <tr style=\"text-align: right;\">\n",
       "      <th></th>\n",
       "      <th>average_rate_per_night</th>\n",
       "      <th>bedrooms_count</th>\n",
       "      <th>city</th>\n",
       "      <th>date_of_listing</th>\n",
       "      <th>description</th>\n",
       "      <th>latitude</th>\n",
       "      <th>longitude</th>\n",
       "      <th>title</th>\n",
       "      <th>url</th>\n",
       "    </tr>\n",
       "  </thead>\n",
       "  <tbody>\n",
       "    <tr>\n",
       "      <th>0</th>\n",
       "      <td>$27</td>\n",
       "      <td>2</td>\n",
       "      <td>Humble</td>\n",
       "      <td>2016-05-01</td>\n",
       "      <td>Welcome to stay in private room with queen bed...</td>\n",
       "      <td>30.020138</td>\n",
       "      <td>-95.293996</td>\n",
       "      <td>2 Private rooms/bathroom 10min from IAH airport</td>\n",
       "      <td>https://www.airbnb.com/rooms/18520444?location...</td>\n",
       "    </tr>\n",
       "    <tr>\n",
       "      <th>1</th>\n",
       "      <td>$149</td>\n",
       "      <td>4</td>\n",
       "      <td>San Antonio</td>\n",
       "      <td>2010-11-01</td>\n",
       "      <td>Stylish, fully remodeled home in upscale NW – ...</td>\n",
       "      <td>29.503068</td>\n",
       "      <td>-98.447688</td>\n",
       "      <td>Unique Location! Alamo Heights - Designer Insp...</td>\n",
       "      <td>https://www.airbnb.com/rooms/17481455?location...</td>\n",
       "    </tr>\n",
       "  </tbody>\n",
       "</table>\n",
       "</div>"
      ],
      "text/plain": [
       "  average_rate_per_night bedrooms_count         city date_of_listing  \\\n",
       "0                    $27              2       Humble      2016-05-01   \n",
       "1                   $149              4  San Antonio      2010-11-01   \n",
       "\n",
       "                                         description   latitude  longitude  \\\n",
       "0  Welcome to stay in private room with queen bed...  30.020138 -95.293996   \n",
       "1  Stylish, fully remodeled home in upscale NW – ...  29.503068 -98.447688   \n",
       "\n",
       "                                               title  \\\n",
       "0    2 Private rooms/bathroom 10min from IAH airport   \n",
       "1  Unique Location! Alamo Heights - Designer Insp...   \n",
       "\n",
       "                                                 url  \n",
       "0  https://www.airbnb.com/rooms/18520444?location...  \n",
       "1  https://www.airbnb.com/rooms/17481455?location...  "
      ]
     },
     "execution_count": 5,
     "metadata": {},
     "output_type": "execute_result"
    }
   ],
   "source": [
    "airbnb_data.head(2)"
   ]
  },
  {
   "cell_type": "code",
   "execution_count": 6,
   "metadata": {
    "scrolled": true
   },
   "outputs": [
    {
     "data": {
      "text/plain": [
       "(18259, 9)"
      ]
     },
     "execution_count": 6,
     "metadata": {},
     "output_type": "execute_result"
    }
   ],
   "source": [
    "airbnb_data.shape"
   ]
  },
  {
   "cell_type": "markdown",
   "metadata": {},
   "source": [
    "# Clean data"
   ]
  },
  {
   "cell_type": "code",
   "execution_count": 7,
   "metadata": {},
   "outputs": [
    {
     "data": {
      "text/plain": [
       "average_rate_per_night    28\n",
       "bedrooms_count             3\n",
       "city                       0\n",
       "date_of_listing            0\n",
       "description                2\n",
       "latitude                  34\n",
       "longitude                 34\n",
       "title                      3\n",
       "url                        0\n",
       "dtype: int64"
      ]
     },
     "execution_count": 7,
     "metadata": {},
     "output_type": "execute_result"
    }
   ],
   "source": [
    "# Check null values of the dataset\n",
    "airbnb_data.isnull().sum()\n",
    "#average_rate_per_night -> replace NAN with 0, convert to int\n",
    "#bedrooms_count -> There are only 3 records so we decided to replace NAN with a category based on the desciption if it's possible. \n",
    "#description, latitude, longitude, title -> replace NAN to 'Unknown'"
   ]
  },
  {
   "cell_type": "code",
   "execution_count": 8,
   "metadata": {},
   "outputs": [
    {
     "data": {
      "text/plain": [
       "average_rate_per_night    0\n",
       "bedrooms_count            0\n",
       "city                      0\n",
       "date_of_listing           0\n",
       "description               0\n",
       "latitude                  0\n",
       "longitude                 0\n",
       "title                     0\n",
       "url                       0\n",
       "dtype: int64"
      ]
     },
     "execution_count": 8,
     "metadata": {},
     "output_type": "execute_result"
    }
   ],
   "source": [
    "airbnb_data=functions.clean(airbnb_data)\n",
    "airbnb_data.isnull().sum()"
   ]
  },
  {
   "cell_type": "code",
   "execution_count": 9,
   "metadata": {},
   "outputs": [
    {
     "data": {
      "text/plain": [
       "(11532, 9)"
      ]
     },
     "execution_count": 9,
     "metadata": {},
     "output_type": "execute_result"
    }
   ],
   "source": [
    "airbnb_data.shape"
   ]
  },
  {
   "cell_type": "markdown",
   "metadata": {
    "scrolled": true
   },
   "source": [
    "#method is run only once at the beginning to make separate .tsv files\n",
    "functions.create_tsv_documents(airbnb_data)"
   ]
  },
  {
   "cell_type": "markdown",
   "metadata": {},
   "source": [
    "# Preprocessing\n",
    "\n",
    "All the documents were preprocessed by\n",
    "\n",
    "1) Removing stop words\n",
    "\n",
    "2) Removing punctuation\n",
    "\n",
    "3) Stemming\n",
    "\n",
    "4) Lower case\n",
    "##### remove non english words__?\n",
    "##### should we remove numbers__?"
   ]
  },
  {
   "cell_type": "markdown",
   "metadata": {},
   "source": [
    "# 3.1) Conjunctive query\n",
    "\n",
    "## 3.1.1) Create your index!"
   ]
  },
  {
   "cell_type": "markdown",
   "metadata": {},
   "source": [
    "#Building a vocabulary\n",
    "vocabulary,doc_vocabs=functions.build_vocabulary(airbnb_data)\n",
    "len(vocabulary) #11717\n",
    "#called only once\n",
    "pickle.dump(vocabulary, open(\"vocabulary.p\", \"wb\"))  # save it "
   ]
  },
  {
   "cell_type": "markdown",
   "metadata": {},
   "source": [
    "# Compute an inverted index"
   ]
  },
  {
   "cell_type": "markdown",
   "metadata": {},
   "source": [
    "#compute an inverted index\n",
    "inverted_idx=functions.compute_inverted_idx(doc_vocabs,vocabulary)\n",
    "pickle.dump(inverted_idx, open(\"inverted_idx.p\", \"wb\"))  # save it "
   ]
  },
  {
   "cell_type": "markdown",
   "metadata": {},
   "source": [
    "Hint: Since you do not want to compute the inverted index every time you use the Search Engine, it is worth to think to store it in a separate file and load it in memory when needed.\n",
    "\n"
   ]
  },
  {
   "cell_type": "markdown",
   "metadata": {},
   "source": [
    "a beautiful house with garden and beach"
   ]
  },
  {
   "cell_type": "code",
   "execution_count": 10,
   "metadata": {},
   "outputs": [],
   "source": [
    "vocabulary = pickle.load(open(\"vocabulary.p\", \"rb\"))\n",
    "inverted_idx = pickle.load(open(\"inverted_idx.p\", \"rb\"))"
   ]
  },
  {
   "cell_type": "markdown",
   "metadata": {},
   "source": [
    "# 3.1.2) Execute the query"
   ]
  },
  {
   "cell_type": "code",
   "execution_count": 11,
   "metadata": {},
   "outputs": [
    {
     "name": "stdout",
     "output_type": "stream",
     "text": [
      "private bedroom internet hot tub\n"
     ]
    },
    {
     "data": {
      "text/html": [
       "<div>\n",
       "<style>\n",
       "    .dataframe thead tr:only-child th {\n",
       "        text-align: right;\n",
       "    }\n",
       "\n",
       "    .dataframe thead th {\n",
       "        text-align: left;\n",
       "    }\n",
       "\n",
       "    .dataframe tbody tr th {\n",
       "        vertical-align: top;\n",
       "    }\n",
       "</style>\n",
       "<table border=\"1\" class=\"dataframe\">\n",
       "  <thead>\n",
       "    <tr style=\"text-align: right;\">\n",
       "      <th></th>\n",
       "      <th>title</th>\n",
       "      <th>description</th>\n",
       "      <th>city</th>\n",
       "      <th>url</th>\n",
       "    </tr>\n",
       "  </thead>\n",
       "  <tbody>\n",
       "    <tr>\n",
       "      <th>0</th>\n",
       "      <td>Pool/Hot Tub - 3 Room Suite - Private Bathroom</td>\n",
       "      <td>Two bedrooms, a sitting room &amp;amp; a private bathroom! (2 real beds, a sofa bed &amp;amp; 3 air mattresses) The entire upstairs of my house! (My wife and I live downstairs) A continental breakfast is included (fresh fruit, cereal, milk, coffee bar, snacks, microwave.)\\n25 min to downtown Dallas / 30 minutes to AT&amp;amp;T Stadium\\n\\nSwim in the pool! Sit and soak in the hot tub (by the glow of Tiki torches). Connect with WiFi &amp;amp; Internet. Enjoy movies and programing, in your private rooms, on DirecTV and NETFLIX.</td>\n",
       "      <td>DeSoto</td>\n",
       "      <td>https://www.airbnb.com/rooms/12791862</td>\n",
       "    </tr>\n",
       "    <tr>\n",
       "      <th>1</th>\n",
       "      <td>GREAT RENT HOUSE FOR SUPERBOWL</td>\n",
       "      <td>SUPERBOWL 2017 DREAM VACATION HOUSE!!!\\n4 bedroom, 2 bathroom house for rent. Water front. 30 minute drive to the NRG stadium for the Super bowl. Full access to entire house, including kitchen. We have a house next door so we will be available at all times. \\n***pictures show house before it's finished. I will post progress pictures as we finish up the redecorating. ***stay three nights, get the fourth night for free or stay a week for a flat rate of $5000. A REFUNDABLE security deposit of $seven-hundred dollars. \\nLand Rover available for $75/hr for driver or $399/day. \\n\\nAMENITIES\\n-access to private pool and hot tub\\n-stocked kitchen available for use \\n-water front view \\n-washer and dryer\\n-car available for additional rates \\n-internet and cable\\n\\nAvailable for interaction 24/7\\n\\nVery spacious. 2 acres of land.</td>\n",
       "      <td>Highlands</td>\n",
       "      <td>https://www.airbnb.com/rooms/16558556</td>\n",
       "    </tr>\n",
       "    <tr>\n",
       "      <th>2</th>\n",
       "      <td>Bay view condo with pool , boat dock sleeps 5-6</td>\n",
       "      <td>The modern newly remodeled Tortuga Bay Bay front Condo with private boat dock offers 2 Bedrooms, (Sleeps up to 6) 2 Full Baths, Resort Pool, Hot Tub, Breathtaking Bayfront Balcony, Full Size-Fully Equipped Kitchen, LCD TVs, Wi-Fi , and so Much More than the Mind Can Conceive!\\n\\n2 Bedrooms (2-Queen Beds, 2-Twin Beds)\\nBay front Balcony, Fully Equipped Kitchen, Washer and Dryer\\n3 LCD HDTV\\nBroadband Internet and Wi-Fi throughout\\nResort Pool and Hot Tub \\nPrivate Boat Dock, Outstanding Bay Views</td>\n",
       "      <td>South Padre Island</td>\n",
       "      <td>https://www.airbnb.com/rooms/18813079</td>\n",
       "    </tr>\n",
       "    <tr>\n",
       "      <th>3</th>\n",
       "      <td>Estrella del Lago (Star of the Lake) Waterfront Lake House with Hot Tub</td>\n",
       "      <td>Welcome to the beautiful waterfront lake house with water access! This home known as Estrella Del Lago (Star of the Lake) is a 2 story 3 bedroom, 2 and a half bathroom home situated along the pristine shores of Canyon Lake to provide a relaxing retreat and act as a meeting place for friends and family.\\nPull up in your boat or jet skis and drop anchor as the property is located in a quiet area is perfect for swimming, fishing, and kayaking (provided - use at your own risk) on the clear blue water. \\nA fully equipped kitchen hosts cooking for the whole family. The home bellies a cozy atmosphere with tall ceilings, comfy beds, furnishings, and relaxing environment. You can enjoy a view from just about every room inside the home and the private covered porches which provide plenty of seating, a Gas Grill, a Firepit, and other outdoor furnishings. The main level features an open concept living with a large deck that is an extension of the home. The living room, dining area, kitchen, and a bedroom are on the main floor. \\nIn the lower level you will find a guest area with two bedrooms and a full bathroom which provide plenty of sleeping (2 full size bed bunk beds and Queen bed), a second deck with a hot tub, and fire pit are right off the lower level guest rooms. Other amenities include: Time Warner (Spectrum) cable, High Speed Internet, HBO, Showtime, BluRay DVD Player, Multiple TVs, board games and many more.\\nPlease visit our to check rates, availability, and other properties. Gruene, and Canyon Lake are famous for their abundance of country music shows, dinner eateries, theater venues, and shopping. Once visitors have had their fill of this part of the Texas Hill Country, they can take a trip to New Braunfels, Schlitterbahn a sprawling theme park with water rides, nearby live music at the numerous libation stations, McAdoos Seafood Company, and pioneer craft shops. Located just 15 miles from New Braunfels and Gruene,\\nJust 5 miles south of Estrella Del Lago, the Whitewater amphitheater has become known as the Live Music Show Capital of south Texas, with 20 live performances featuring more than 50 shows. Shows range from rock n' roll, local music, and country's musics most famous musicians.\\nFloating down a river has long been the epic journey, from Lewis and Clark's exploratory sojourn to numerous household pets trying to find their way home. Located five minutes from Estrella Del Lago are numerous river outfitters. Guadalupe River outfitters have a rental fleet of water-dirigibles that usher in leisurely maritime adventures on the lush waters of the Guadalupe River. Inner-tubes cradle the relaxed bodies of slow-paced thrill-seekers as they partake of an epic journey around the famed Horseshoe. Floats can be a 1-to 10-mile odyssey that can last three-eight hours depending on the number of frightened thrill seekers you're able to bribe with stale refreshments. River outfitters can accommodate large groups, and rent by the half-day or full-day consisting of floats that traverse 1- or 10-mile journeys, estimated. As the natural beauty of the surrounding riverside evokes audible gasps and joyful weeping, toob mates are encouraged to sup on their own food and drink.</td>\n",
       "      <td>Canyon Lake</td>\n",
       "      <td>https://www.airbnb.com/rooms/19048300</td>\n",
       "    </tr>\n",
       "    <tr>\n",
       "      <th>4</th>\n",
       "      <td>Owner's Special Newly Remodeled Beachfront Condo</td>\n",
       "      <td>The modern newly remodeled in 2017 Sea Vista Beachfront Condo offers 2 Bedrooms, (Sleeps up to 6) \\n\\n2 Bedrooms (1-King Bed, 2-Full Beds)\\nBeachfront Balcony, Fully Equipped Kitchen, Washer and Dryer\\nCentral Air Conditioner\\n3 LCD HDTV\\nBroadband Internet and Wi-Fi throughout\\n2 Resort Pools, 2 Hot Tub and 2 Tennis Courts\\nPrivate Beach Access, Gulf and Oceanfront Views\\nGated Entry and Elevator</td>\n",
       "      <td>South Padre Island</td>\n",
       "      <td>https://www.airbnb.com/rooms/19565733</td>\n",
       "    </tr>\n",
       "  </tbody>\n",
       "</table>\n",
       "</div>"
      ],
      "text/plain": [
       "                                                                     title  \\\n",
       "0  Pool/Hot Tub - 3 Room Suite - Private Bathroom                            \n",
       "1  GREAT RENT HOUSE FOR SUPERBOWL                                            \n",
       "2  Bay view condo with pool , boat dock sleeps 5-6                           \n",
       "3  Estrella del Lago (Star of the Lake) Waterfront Lake House with Hot Tub   \n",
       "4  Owner's Special Newly Remodeled Beachfront Condo                          \n",
       "\n",
       "                                                                                                                                                                                                                                                                                                                                                                                                                                                                                                                                                                                                                                                                                                                                                                                                                                                                                                                                                                                                                                                                                                                                                                                                                                                                                                                                                                                                                                                                                                                                                                                                                                                                                                                                                                                                                                                                                                                                                                                                                                                                                                                                                                                                                                                                                                                                                                                                                                                                                                                                                                                                                                                                                                                                                                                                                                                                                                                                                                                                                                                                                                                                                                                                                                                                                                                                          description  \\\n",
       "0  Two bedrooms, a sitting room &amp; a private bathroom! (2 real beds, a sofa bed &amp; 3 air mattresses) The entire upstairs of my house! (My wife and I live downstairs) A continental breakfast is included (fresh fruit, cereal, milk, coffee bar, snacks, microwave.)\\n25 min to downtown Dallas / 30 minutes to AT&amp;T Stadium\\n\\nSwim in the pool! Sit and soak in the hot tub (by the glow of Tiki torches). Connect with WiFi &amp; Internet. Enjoy movies and programing, in your private rooms, on DirecTV and NETFLIX.                                                                                                                                                                                                                                                                                                                                                                                                                                                                                                                                                                                                                                                                                                                                                                                                                                                                                                                                                                                                                                                                                                                                                                                                                                                                                                                                                                                                                                                                                                                                                                                                                                                                                                                                                                                                                                                                                                                                                                                                                                                                                                                                                                                                                                                                                                                                                                                                                                                                                                                                                                                                                                                                                                                                                                                                                   \n",
       "1  SUPERBOWL 2017 DREAM VACATION HOUSE!!!\\n4 bedroom, 2 bathroom house for rent. Water front. 30 minute drive to the NRG stadium for the Super bowl. Full access to entire house, including kitchen. We have a house next door so we will be available at all times. \\n***pictures show house before it's finished. I will post progress pictures as we finish up the redecorating. ***stay three nights, get the fourth night for free or stay a week for a flat rate of $5000. A REFUNDABLE security deposit of $seven-hundred dollars. \\nLand Rover available for $75/hr for driver or $399/day. \\n\\nAMENITIES\\n-access to private pool and hot tub\\n-stocked kitchen available for use \\n-water front view \\n-washer and dryer\\n-car available for additional rates \\n-internet and cable\\n\\nAvailable for interaction 24/7\\n\\nVery spacious. 2 acres of land.                                                                                                                                                                                                                                                                                                                                                                                                                                                                                                                                                                                                                                                                                                                                                                                                                                                                                                                                                                                                                                                                                                                                                                                                                                                                                                                                                                                                                                                                                                                                                                                                                                                                                                                                                                                                                                                                                                                                                                                                                                                                                                                                                                                                                                                                                                                                                                                                                                                                                      \n",
       "2  The modern newly remodeled Tortuga Bay Bay front Condo with private boat dock offers 2 Bedrooms, (Sleeps up to 6) 2 Full Baths, Resort Pool, Hot Tub, Breathtaking Bayfront Balcony, Full Size-Fully Equipped Kitchen, LCD TVs, Wi-Fi , and so Much More than the Mind Can Conceive!\\n\\n2 Bedrooms (2-Queen Beds, 2-Twin Beds)\\nBay front Balcony, Fully Equipped Kitchen, Washer and Dryer\\n3 LCD HDTV\\nBroadband Internet and Wi-Fi throughout\\nResort Pool and Hot Tub \\nPrivate Boat Dock, Outstanding Bay Views                                                                                                                                                                                                                                                                                                                                                                                                                                                                                                                                                                                                                                                                                                                                                                                                                                                                                                                                                                                                                                                                                                                                                                                                                                                                                                                                                                                                                                                                                                                                                                                                                                                                                                                                                                                                                                                                                                                                                                                                                                                                                                                                                                                                                                                                                                                                                                                                                                                                                                                                                                                                                                                                                                                                                                                                                              \n",
       "3  Welcome to the beautiful waterfront lake house with water access! This home known as Estrella Del Lago (Star of the Lake) is a 2 story 3 bedroom, 2 and a half bathroom home situated along the pristine shores of Canyon Lake to provide a relaxing retreat and act as a meeting place for friends and family.\\nPull up in your boat or jet skis and drop anchor as the property is located in a quiet area is perfect for swimming, fishing, and kayaking (provided - use at your own risk) on the clear blue water. \\nA fully equipped kitchen hosts cooking for the whole family. The home bellies a cozy atmosphere with tall ceilings, comfy beds, furnishings, and relaxing environment. You can enjoy a view from just about every room inside the home and the private covered porches which provide plenty of seating, a Gas Grill, a Firepit, and other outdoor furnishings. The main level features an open concept living with a large deck that is an extension of the home. The living room, dining area, kitchen, and a bedroom are on the main floor. \\nIn the lower level you will find a guest area with two bedrooms and a full bathroom which provide plenty of sleeping (2 full size bed bunk beds and Queen bed), a second deck with a hot tub, and fire pit are right off the lower level guest rooms. Other amenities include: Time Warner (Spectrum) cable, High Speed Internet, HBO, Showtime, BluRay DVD Player, Multiple TVs, board games and many more.\\nPlease visit our to check rates, availability, and other properties. Gruene, and Canyon Lake are famous for their abundance of country music shows, dinner eateries, theater venues, and shopping. Once visitors have had their fill of this part of the Texas Hill Country, they can take a trip to New Braunfels, Schlitterbahn a sprawling theme park with water rides, nearby live music at the numerous libation stations, McAdoos Seafood Company, and pioneer craft shops. Located just 15 miles from New Braunfels and Gruene,\\nJust 5 miles south of Estrella Del Lago, the Whitewater amphitheater has become known as the Live Music Show Capital of south Texas, with 20 live performances featuring more than 50 shows. Shows range from rock n' roll, local music, and country's musics most famous musicians.\\nFloating down a river has long been the epic journey, from Lewis and Clark's exploratory sojourn to numerous household pets trying to find their way home. Located five minutes from Estrella Del Lago are numerous river outfitters. Guadalupe River outfitters have a rental fleet of water-dirigibles that usher in leisurely maritime adventures on the lush waters of the Guadalupe River. Inner-tubes cradle the relaxed bodies of slow-paced thrill-seekers as they partake of an epic journey around the famed Horseshoe. Floats can be a 1-to 10-mile odyssey that can last three-eight hours depending on the number of frightened thrill seekers you're able to bribe with stale refreshments. River outfitters can accommodate large groups, and rent by the half-day or full-day consisting of floats that traverse 1- or 10-mile journeys, estimated. As the natural beauty of the surrounding riverside evokes audible gasps and joyful weeping, toob mates are encouraged to sup on their own food and drink.   \n",
       "4  The modern newly remodeled in 2017 Sea Vista Beachfront Condo offers 2 Bedrooms, (Sleeps up to 6) \\n\\n2 Bedrooms (1-King Bed, 2-Full Beds)\\nBeachfront Balcony, Fully Equipped Kitchen, Washer and Dryer\\nCentral Air Conditioner\\n3 LCD HDTV\\nBroadband Internet and Wi-Fi throughout\\n2 Resort Pools, 2 Hot Tub and 2 Tennis Courts\\nPrivate Beach Access, Gulf and Oceanfront Views\\nGated Entry and Elevator                                                                                                                                                                                                                                                                                                                                                                                                                                                                                                                                                                                                                                                                                                                                                                                                                                                                                                                                                                                                                                                                                                                                                                                                                                                                                                                                                                                                                                                                                                                                                                                                                                                                                                                                                                                                                                                                                                                                                                                                                                                                                                                                                                                                                                                                                                                                                                                                                                                                                                                                                                                                                                                                                                                                                                                                                                                                                                                                  \n",
       "\n",
       "                 city                                    url  \n",
       "0  DeSoto              https://www.airbnb.com/rooms/12791862  \n",
       "1  Highlands           https://www.airbnb.com/rooms/16558556  \n",
       "2  South Padre Island  https://www.airbnb.com/rooms/18813079  \n",
       "3  Canyon Lake         https://www.airbnb.com/rooms/19048300  \n",
       "4  South Padre Island  https://www.airbnb.com/rooms/19565733  "
      ]
     },
     "execution_count": 11,
     "metadata": {},
     "output_type": "execute_result"
    }
   ],
   "source": [
    "doc_id_rs,result_df=functions.search_engine(vocabulary,inverted_idx) #private bedroom internet hot tub\n",
    "result_df"
   ]
  },
  {
   "cell_type": "markdown",
   "metadata": {},
   "source": [
    "# 3.2) Conjunctive query & Ranking score \n",
    "\n",
    "## 3.2.1) Inverted index \n",
    "\n",
    "### Calculation of tf-idf values"
   ]
  },
  {
   "cell_type": "markdown",
   "metadata": {},
   "source": [
    "tf_idf_dic=functions.calculate_tf_idf(airbnb_data,inverted_idx,vocabulary)"
   ]
  },
  {
   "cell_type": "markdown",
   "metadata": {},
   "source": [
    "inverted_idx2=functions.compute_inverted_idx2(inverted_idx,vocabulary,tf_idf_dic)"
   ]
  },
  {
   "cell_type": "markdown",
   "metadata": {},
   "source": [
    "pickle.dump(inverted_idx2, open(\"inverted_idx2.p\", \"wb\"))  # save it into a file # for future usage it can be just imported "
   ]
  },
  {
   "cell_type": "markdown",
   "metadata": {},
   "source": [
    "## 3.2.2) Execute the query"
   ]
  },
  {
   "cell_type": "code",
   "execution_count": 12,
   "metadata": {},
   "outputs": [],
   "source": [
    "inverted_idx2 = pickle.load(open(\"inverted_idx2.p\", \"rb\"))"
   ]
  },
  {
   "cell_type": "code",
   "execution_count": 13,
   "metadata": {},
   "outputs": [
    {
     "name": "stdout",
     "output_type": "stream",
     "text": [
      "sun private room\n",
      "[2569, 269, 13205, 2847, 8997, 3367, 8872, 8747, 6705, 4405, 7102, 12867, 8140, 13773, 5454, 6875, 11362, 2151, 872, 1899, 12024]\n"
     ]
    },
    {
     "data": {
      "text/html": [
       "<div>\n",
       "<style>\n",
       "    .dataframe thead tr:only-child th {\n",
       "        text-align: right;\n",
       "    }\n",
       "\n",
       "    .dataframe thead th {\n",
       "        text-align: left;\n",
       "    }\n",
       "\n",
       "    .dataframe tbody tr th {\n",
       "        vertical-align: top;\n",
       "    }\n",
       "</style>\n",
       "<table border=\"1\" class=\"dataframe\">\n",
       "  <thead>\n",
       "    <tr style=\"text-align: right;\">\n",
       "      <th></th>\n",
       "      <th>title</th>\n",
       "      <th>description</th>\n",
       "      <th>city</th>\n",
       "      <th>url</th>\n",
       "      <th>similarity</th>\n",
       "    </tr>\n",
       "  </thead>\n",
       "  <tbody>\n",
       "    <tr>\n",
       "      <th>0</th>\n",
       "      <td>Spacious Private guest room w/sunroom - woman only</td>\n",
       "      <td>3 minute drive to Mopac and 15 minutes to Downtown, close to Bike Trails and Lady Bird Johnson's Bird Park. My place is a 5 minute walk to boutique-style Escarpment Village Shopping with grocery, a Starbucks, higher end dining, or grab an ice cream or burger.\\n\\nYoull enjoy the coziness of the private master bedroom, private bath, and French door entry to the sun room, with view of beautiful trees in backyard. My place is great for couples, solo adventurers, or business travelers.</td>\n",
       "      <td>Austin</td>\n",
       "      <td>https://www.airbnb.com/rooms/18868758</td>\n",
       "      <td>0.97</td>\n",
       "    </tr>\n",
       "    <tr>\n",
       "      <th>1</th>\n",
       "      <td>Private Room in Warm Boutique Home</td>\n",
       "      <td>Congratulations on finding the perfect place to stay. We have a Private room with a ceiling fan, full size closet, wireless access, access to swimming pool, washer and dryer, private patio for relaxing in the shade or laying out in the sun, close to Hwy (PHONE NUMBER HIDDEN), and the Dell Campus. austin is 15 minutes away and COTA is 30 minutes.</td>\n",
       "      <td>Round Rock</td>\n",
       "      <td>https://www.airbnb.com/rooms/7672843</td>\n",
       "      <td>0.97</td>\n",
       "    </tr>\n",
       "    <tr>\n",
       "      <th>2</th>\n",
       "      <td>Cozy/Private Room, Minutes to Downtown!</td>\n",
       "      <td>Cozy private room, very close to the airport and 7 miles from downtown Austin. The room is simple but equipped with everything you would need for a comfortable stay. Double bed, two bed side tables, full closet to tuck away your belongings in. The full bath is shared with another air bnb listing. Bathroom has toiletries and hairdryer. Feel free to use our living room, dining area and kitchen. We also have a nice back patio great for soaking up sun or night drinking.</td>\n",
       "      <td>Austin</td>\n",
       "      <td>https://www.airbnb.com/rooms/17423956</td>\n",
       "      <td>0.97</td>\n",
       "    </tr>\n",
       "    <tr>\n",
       "      <th>3</th>\n",
       "      <td>Comfy, Quiet Private Room with Late Check-Out</td>\n",
       "      <td>Our place is very quiet and clean. Comfy queen sized bed and black-out curtain on the window so you can sleep in without with sun waking you.\\n\\nWe are off the beaten path, in a quiet neighborhood east of Austin. A short drive 15-30 minutes (depending on where you are headed and when) to a ton of great Austin sites and sounds. \\n\\nOur place is perfect if you are looking for a comfortable, clean, quiet private room.</td>\n",
       "      <td>Austin</td>\n",
       "      <td>https://www.airbnb.com/rooms/16827574</td>\n",
       "      <td>0.96</td>\n",
       "    </tr>\n",
       "    <tr>\n",
       "      <th>4</th>\n",
       "      <td>Quiet Getaway Near I-35/UNT/TWU!!</td>\n",
       "      <td>Book Your Group at One Location and Save!!\\nVideo Tour Available Upon Request\\n\\n-1 min highway access located on a quiet cul-de-sac\\n-4 Bright, sun-lit, comfy, private secured guest rooms \\n-2 Full bathrooms \\n-40'' TV in Room with Roku/Apple TV Access\\n-Entertainment-centric child-free pet-free comfort setting\\n-DIRECTV + NFL Sunday Ticket\\n-Living room with 70'' TV\\n-Driveway parking available\\n\\nConnect with me on my LinkedIn page:\\nSearch for Grant Glass</td>\n",
       "      <td>Denton</td>\n",
       "      <td>https://www.airbnb.com/rooms/15609235</td>\n",
       "      <td>0.92</td>\n",
       "    </tr>\n",
       "  </tbody>\n",
       "</table>\n",
       "</div>"
      ],
      "text/plain": [
       "                                                title  \\\n",
       "0  Spacious Private guest room w/sunroom - woman only   \n",
       "1  Private Room in Warm Boutique Home                   \n",
       "2  Cozy/Private Room, Minutes to Downtown!              \n",
       "3  Comfy, Quiet Private Room with Late Check-Out        \n",
       "4  Quiet Getaway Near I-35/UNT/TWU!!                    \n",
       "\n",
       "                                                                                                                                                                                                                                                                                                                                                                                                                                                                                              description  \\\n",
       "0  3 minute drive to Mopac and 15 minutes to Downtown, close to Bike Trails and Lady Bird Johnson's Bird Park. My place is a 5 minute walk to boutique-style Escarpment Village Shopping with grocery, a Starbucks, higher end dining, or grab an ice cream or burger.\\n\\nYoull enjoy the coziness of the private master bedroom, private bath, and French door entry to the sun room, with view of beautiful trees in backyard. My place is great for couples, solo adventurers, or business travelers.   \n",
       "1  Congratulations on finding the perfect place to stay. We have a Private room with a ceiling fan, full size closet, wireless access, access to swimming pool, washer and dryer, private patio for relaxing in the shade or laying out in the sun, close to Hwy (PHONE NUMBER HIDDEN), and the Dell Campus. austin is 15 minutes away and COTA is 30 minutes.                                                                                                                                              \n",
       "2  Cozy private room, very close to the airport and 7 miles from downtown Austin. The room is simple but equipped with everything you would need for a comfortable stay. Double bed, two bed side tables, full closet to tuck away your belongings in. The full bath is shared with another air bnb listing. Bathroom has toiletries and hairdryer. Feel free to use our living room, dining area and kitchen. We also have a nice back patio great for soaking up sun or night drinking.                   \n",
       "3  Our place is very quiet and clean. Comfy queen sized bed and black-out curtain on the window so you can sleep in without with sun waking you.\\n\\nWe are off the beaten path, in a quiet neighborhood east of Austin. A short drive 15-30 minutes (depending on where you are headed and when) to a ton of great Austin sites and sounds. \\n\\nOur place is perfect if you are looking for a comfortable, clean, quiet private room.                                                                       \n",
       "4  Book Your Group at One Location and Save!!\\nVideo Tour Available Upon Request\\n\\n-1 min highway access located on a quiet cul-de-sac\\n-4 Bright, sun-lit, comfy, private secured guest rooms \\n-2 Full bathrooms \\n-40'' TV in Room with Roku/Apple TV Access\\n-Entertainment-centric child-free pet-free comfort setting\\n-DIRECTV + NFL Sunday Ticket\\n-Living room with 70'' TV\\n-Driveway parking available\\n\\nConnect with me on my LinkedIn page:\\nSearch for Grant Glass                          \n",
       "\n",
       "         city                                    url  similarity  \n",
       "0  Austin      https://www.airbnb.com/rooms/18868758  0.97        \n",
       "1  Round Rock  https://www.airbnb.com/rooms/7672843   0.97        \n",
       "2  Austin      https://www.airbnb.com/rooms/17423956  0.97        \n",
       "3  Austin      https://www.airbnb.com/rooms/16827574  0.96        \n",
       "4  Denton      https://www.airbnb.com/rooms/15609235  0.92        "
      ]
     },
     "execution_count": 13,
     "metadata": {},
     "output_type": "execute_result"
    }
   ],
   "source": [
    "functions.search_engine2(5,vocabulary,inverted_idx,inverted_idx2) \n",
    "       # sun private room"
   ]
  },
  {
   "cell_type": "markdown",
   "metadata": {},
   "source": [
    "# 4) Our score"
   ]
  },
  {
   "cell_type": "code",
   "execution_count": 14,
   "metadata": {},
   "outputs": [
    {
     "data": {
      "text/plain": [
       "[544, 2022, 9099, 5806, 12787]"
      ]
     },
     "execution_count": 14,
     "metadata": {},
     "output_type": "execute_result"
    }
   ],
   "source": [
    "doc_id_rs"
   ]
  },
  {
   "cell_type": "code",
   "execution_count": 15,
   "metadata": {
    "scrolled": true
   },
   "outputs": [],
   "source": [
    "#QUERY same as from the 1st search engine\n",
    "#private bedroom internet hot tub"
   ]
  },
  {
   "cell_type": "code",
   "execution_count": 16,
   "metadata": {},
   "outputs": [
    {
     "data": {
      "text/html": [
       "<div>\n",
       "<style>\n",
       "    .dataframe thead tr:only-child th {\n",
       "        text-align: right;\n",
       "    }\n",
       "\n",
       "    .dataframe thead th {\n",
       "        text-align: left;\n",
       "    }\n",
       "\n",
       "    .dataframe tbody tr th {\n",
       "        vertical-align: top;\n",
       "    }\n",
       "</style>\n",
       "<table border=\"1\" class=\"dataframe\">\n",
       "  <thead>\n",
       "    <tr style=\"text-align: right;\">\n",
       "      <th></th>\n",
       "      <th>title</th>\n",
       "      <th>description</th>\n",
       "      <th>city</th>\n",
       "      <th>url</th>\n",
       "    </tr>\n",
       "  </thead>\n",
       "  <tbody>\n",
       "    <tr>\n",
       "      <th>0</th>\n",
       "      <td>Pool/Hot Tub - 3 Room Suite - Private Bathroom</td>\n",
       "      <td>Two bedrooms, a sitting room &amp;amp; a private bathroom! (2 real beds, a sofa bed &amp;amp; 3 air mattresses) The entire upstairs of my house! (My wife and I live downstairs) A continental breakfast is included (fresh fruit, cereal, milk, coffee bar, snacks, microwave.)\\n25 min to downtown Dallas / 30 minutes to AT&amp;amp;T Stadium\\n\\nSwim in the pool! Sit and soak in the hot tub (by the glow of Tiki torches). Connect with WiFi &amp;amp; Internet. Enjoy movies and programing, in your private rooms, on DirecTV and NETFLIX.</td>\n",
       "      <td>DeSoto</td>\n",
       "      <td>https://www.airbnb.com/rooms/12791862</td>\n",
       "    </tr>\n",
       "    <tr>\n",
       "      <th>1</th>\n",
       "      <td>GREAT RENT HOUSE FOR SUPERBOWL</td>\n",
       "      <td>SUPERBOWL 2017 DREAM VACATION HOUSE!!!\\n4 bedroom, 2 bathroom house for rent. Water front. 30 minute drive to the NRG stadium for the Super bowl. Full access to entire house, including kitchen. We have a house next door so we will be available at all times. \\n***pictures show house before it's finished. I will post progress pictures as we finish up the redecorating. ***stay three nights, get the fourth night for free or stay a week for a flat rate of $5000. A REFUNDABLE security deposit of $seven-hundred dollars. \\nLand Rover available for $75/hr for driver or $399/day. \\n\\nAMENITIES\\n-access to private pool and hot tub\\n-stocked kitchen available for use \\n-water front view \\n-washer and dryer\\n-car available for additional rates \\n-internet and cable\\n\\nAvailable for interaction 24/7\\n\\nVery spacious. 2 acres of land.</td>\n",
       "      <td>Highlands</td>\n",
       "      <td>https://www.airbnb.com/rooms/16558556</td>\n",
       "    </tr>\n",
       "    <tr>\n",
       "      <th>2</th>\n",
       "      <td>Bay view condo with pool , boat dock sleeps 5-6</td>\n",
       "      <td>The modern newly remodeled Tortuga Bay Bay front Condo with private boat dock offers 2 Bedrooms, (Sleeps up to 6) 2 Full Baths, Resort Pool, Hot Tub, Breathtaking Bayfront Balcony, Full Size-Fully Equipped Kitchen, LCD TVs, Wi-Fi , and so Much More than the Mind Can Conceive!\\n\\n2 Bedrooms (2-Queen Beds, 2-Twin Beds)\\nBay front Balcony, Fully Equipped Kitchen, Washer and Dryer\\n3 LCD HDTV\\nBroadband Internet and Wi-Fi throughout\\nResort Pool and Hot Tub \\nPrivate Boat Dock, Outstanding Bay Views</td>\n",
       "      <td>South Padre Island</td>\n",
       "      <td>https://www.airbnb.com/rooms/18813079</td>\n",
       "    </tr>\n",
       "    <tr>\n",
       "      <th>3</th>\n",
       "      <td>Estrella del Lago (Star of the Lake) Waterfront Lake House with Hot Tub</td>\n",
       "      <td>Welcome to the beautiful waterfront lake house with water access! This home known as Estrella Del Lago (Star of the Lake) is a 2 story 3 bedroom, 2 and a half bathroom home situated along the pristine shores of Canyon Lake to provide a relaxing retreat and act as a meeting place for friends and family.\\nPull up in your boat or jet skis and drop anchor as the property is located in a quiet area is perfect for swimming, fishing, and kayaking (provided - use at your own risk) on the clear blue water. \\nA fully equipped kitchen hosts cooking for the whole family. The home bellies a cozy atmosphere with tall ceilings, comfy beds, furnishings, and relaxing environment. You can enjoy a view from just about every room inside the home and the private covered porches which provide plenty of seating, a Gas Grill, a Firepit, and other outdoor furnishings. The main level features an open concept living with a large deck that is an extension of the home. The living room, dining area, kitchen, and a bedroom are on the main floor. \\nIn the lower level you will find a guest area with two bedrooms and a full bathroom which provide plenty of sleeping (2 full size bed bunk beds and Queen bed), a second deck with a hot tub, and fire pit are right off the lower level guest rooms. Other amenities include: Time Warner (Spectrum) cable, High Speed Internet, HBO, Showtime, BluRay DVD Player, Multiple TVs, board games and many more.\\nPlease visit our to check rates, availability, and other properties. Gruene, and Canyon Lake are famous for their abundance of country music shows, dinner eateries, theater venues, and shopping. Once visitors have had their fill of this part of the Texas Hill Country, they can take a trip to New Braunfels, Schlitterbahn a sprawling theme park with water rides, nearby live music at the numerous libation stations, McAdoos Seafood Company, and pioneer craft shops. Located just 15 miles from New Braunfels and Gruene,\\nJust 5 miles south of Estrella Del Lago, the Whitewater amphitheater has become known as the Live Music Show Capital of south Texas, with 20 live performances featuring more than 50 shows. Shows range from rock n' roll, local music, and country's musics most famous musicians.\\nFloating down a river has long been the epic journey, from Lewis and Clark's exploratory sojourn to numerous household pets trying to find their way home. Located five minutes from Estrella Del Lago are numerous river outfitters. Guadalupe River outfitters have a rental fleet of water-dirigibles that usher in leisurely maritime adventures on the lush waters of the Guadalupe River. Inner-tubes cradle the relaxed bodies of slow-paced thrill-seekers as they partake of an epic journey around the famed Horseshoe. Floats can be a 1-to 10-mile odyssey that can last three-eight hours depending on the number of frightened thrill seekers you're able to bribe with stale refreshments. River outfitters can accommodate large groups, and rent by the half-day or full-day consisting of floats that traverse 1- or 10-mile journeys, estimated. As the natural beauty of the surrounding riverside evokes audible gasps and joyful weeping, toob mates are encouraged to sup on their own food and drink.</td>\n",
       "      <td>Canyon Lake</td>\n",
       "      <td>https://www.airbnb.com/rooms/19048300</td>\n",
       "    </tr>\n",
       "    <tr>\n",
       "      <th>4</th>\n",
       "      <td>Owner's Special Newly Remodeled Beachfront Condo</td>\n",
       "      <td>The modern newly remodeled in 2017 Sea Vista Beachfront Condo offers 2 Bedrooms, (Sleeps up to 6) \\n\\n2 Bedrooms (1-King Bed, 2-Full Beds)\\nBeachfront Balcony, Fully Equipped Kitchen, Washer and Dryer\\nCentral Air Conditioner\\n3 LCD HDTV\\nBroadband Internet and Wi-Fi throughout\\n2 Resort Pools, 2 Hot Tub and 2 Tennis Courts\\nPrivate Beach Access, Gulf and Oceanfront Views\\nGated Entry and Elevator</td>\n",
       "      <td>South Padre Island</td>\n",
       "      <td>https://www.airbnb.com/rooms/19565733</td>\n",
       "    </tr>\n",
       "  </tbody>\n",
       "</table>\n",
       "</div>"
      ],
      "text/plain": [
       "                                                                     title  \\\n",
       "0  Pool/Hot Tub - 3 Room Suite - Private Bathroom                            \n",
       "1  GREAT RENT HOUSE FOR SUPERBOWL                                            \n",
       "2  Bay view condo with pool , boat dock sleeps 5-6                           \n",
       "3  Estrella del Lago (Star of the Lake) Waterfront Lake House with Hot Tub   \n",
       "4  Owner's Special Newly Remodeled Beachfront Condo                          \n",
       "\n",
       "                                                                                                                                                                                                                                                                                                                                                                                                                                                                                                                                                                                                                                                                                                                                                                                                                                                                                                                                                                                                                                                                                                                                                                                                                                                                                                                                                                                                                                                                                                                                                                                                                                                                                                                                                                                                                                                                                                                                                                                                                                                                                                                                                                                                                                                                                                                                                                                                                                                                                                                                                                                                                                                                                                                                                                                                                                                                                                                                                                                                                                                                                                                                                                                                                                                                                                                                          description  \\\n",
       "0  Two bedrooms, a sitting room &amp; a private bathroom! (2 real beds, a sofa bed &amp; 3 air mattresses) The entire upstairs of my house! (My wife and I live downstairs) A continental breakfast is included (fresh fruit, cereal, milk, coffee bar, snacks, microwave.)\\n25 min to downtown Dallas / 30 minutes to AT&amp;T Stadium\\n\\nSwim in the pool! Sit and soak in the hot tub (by the glow of Tiki torches). Connect with WiFi &amp; Internet. Enjoy movies and programing, in your private rooms, on DirecTV and NETFLIX.                                                                                                                                                                                                                                                                                                                                                                                                                                                                                                                                                                                                                                                                                                                                                                                                                                                                                                                                                                                                                                                                                                                                                                                                                                                                                                                                                                                                                                                                                                                                                                                                                                                                                                                                                                                                                                                                                                                                                                                                                                                                                                                                                                                                                                                                                                                                                                                                                                                                                                                                                                                                                                                                                                                                                                                                                   \n",
       "1  SUPERBOWL 2017 DREAM VACATION HOUSE!!!\\n4 bedroom, 2 bathroom house for rent. Water front. 30 minute drive to the NRG stadium for the Super bowl. Full access to entire house, including kitchen. We have a house next door so we will be available at all times. \\n***pictures show house before it's finished. I will post progress pictures as we finish up the redecorating. ***stay three nights, get the fourth night for free or stay a week for a flat rate of $5000. A REFUNDABLE security deposit of $seven-hundred dollars. \\nLand Rover available for $75/hr for driver or $399/day. \\n\\nAMENITIES\\n-access to private pool and hot tub\\n-stocked kitchen available for use \\n-water front view \\n-washer and dryer\\n-car available for additional rates \\n-internet and cable\\n\\nAvailable for interaction 24/7\\n\\nVery spacious. 2 acres of land.                                                                                                                                                                                                                                                                                                                                                                                                                                                                                                                                                                                                                                                                                                                                                                                                                                                                                                                                                                                                                                                                                                                                                                                                                                                                                                                                                                                                                                                                                                                                                                                                                                                                                                                                                                                                                                                                                                                                                                                                                                                                                                                                                                                                                                                                                                                                                                                                                                                                                      \n",
       "2  The modern newly remodeled Tortuga Bay Bay front Condo with private boat dock offers 2 Bedrooms, (Sleeps up to 6) 2 Full Baths, Resort Pool, Hot Tub, Breathtaking Bayfront Balcony, Full Size-Fully Equipped Kitchen, LCD TVs, Wi-Fi , and so Much More than the Mind Can Conceive!\\n\\n2 Bedrooms (2-Queen Beds, 2-Twin Beds)\\nBay front Balcony, Fully Equipped Kitchen, Washer and Dryer\\n3 LCD HDTV\\nBroadband Internet and Wi-Fi throughout\\nResort Pool and Hot Tub \\nPrivate Boat Dock, Outstanding Bay Views                                                                                                                                                                                                                                                                                                                                                                                                                                                                                                                                                                                                                                                                                                                                                                                                                                                                                                                                                                                                                                                                                                                                                                                                                                                                                                                                                                                                                                                                                                                                                                                                                                                                                                                                                                                                                                                                                                                                                                                                                                                                                                                                                                                                                                                                                                                                                                                                                                                                                                                                                                                                                                                                                                                                                                                                                              \n",
       "3  Welcome to the beautiful waterfront lake house with water access! This home known as Estrella Del Lago (Star of the Lake) is a 2 story 3 bedroom, 2 and a half bathroom home situated along the pristine shores of Canyon Lake to provide a relaxing retreat and act as a meeting place for friends and family.\\nPull up in your boat or jet skis and drop anchor as the property is located in a quiet area is perfect for swimming, fishing, and kayaking (provided - use at your own risk) on the clear blue water. \\nA fully equipped kitchen hosts cooking for the whole family. The home bellies a cozy atmosphere with tall ceilings, comfy beds, furnishings, and relaxing environment. You can enjoy a view from just about every room inside the home and the private covered porches which provide plenty of seating, a Gas Grill, a Firepit, and other outdoor furnishings. The main level features an open concept living with a large deck that is an extension of the home. The living room, dining area, kitchen, and a bedroom are on the main floor. \\nIn the lower level you will find a guest area with two bedrooms and a full bathroom which provide plenty of sleeping (2 full size bed bunk beds and Queen bed), a second deck with a hot tub, and fire pit are right off the lower level guest rooms. Other amenities include: Time Warner (Spectrum) cable, High Speed Internet, HBO, Showtime, BluRay DVD Player, Multiple TVs, board games and many more.\\nPlease visit our to check rates, availability, and other properties. Gruene, and Canyon Lake are famous for their abundance of country music shows, dinner eateries, theater venues, and shopping. Once visitors have had their fill of this part of the Texas Hill Country, they can take a trip to New Braunfels, Schlitterbahn a sprawling theme park with water rides, nearby live music at the numerous libation stations, McAdoos Seafood Company, and pioneer craft shops. Located just 15 miles from New Braunfels and Gruene,\\nJust 5 miles south of Estrella Del Lago, the Whitewater amphitheater has become known as the Live Music Show Capital of south Texas, with 20 live performances featuring more than 50 shows. Shows range from rock n' roll, local music, and country's musics most famous musicians.\\nFloating down a river has long been the epic journey, from Lewis and Clark's exploratory sojourn to numerous household pets trying to find their way home. Located five minutes from Estrella Del Lago are numerous river outfitters. Guadalupe River outfitters have a rental fleet of water-dirigibles that usher in leisurely maritime adventures on the lush waters of the Guadalupe River. Inner-tubes cradle the relaxed bodies of slow-paced thrill-seekers as they partake of an epic journey around the famed Horseshoe. Floats can be a 1-to 10-mile odyssey that can last three-eight hours depending on the number of frightened thrill seekers you're able to bribe with stale refreshments. River outfitters can accommodate large groups, and rent by the half-day or full-day consisting of floats that traverse 1- or 10-mile journeys, estimated. As the natural beauty of the surrounding riverside evokes audible gasps and joyful weeping, toob mates are encouraged to sup on their own food and drink.   \n",
       "4  The modern newly remodeled in 2017 Sea Vista Beachfront Condo offers 2 Bedrooms, (Sleeps up to 6) \\n\\n2 Bedrooms (1-King Bed, 2-Full Beds)\\nBeachfront Balcony, Fully Equipped Kitchen, Washer and Dryer\\nCentral Air Conditioner\\n3 LCD HDTV\\nBroadband Internet and Wi-Fi throughout\\n2 Resort Pools, 2 Hot Tub and 2 Tennis Courts\\nPrivate Beach Access, Gulf and Oceanfront Views\\nGated Entry and Elevator                                                                                                                                                                                                                                                                                                                                                                                                                                                                                                                                                                                                                                                                                                                                                                                                                                                                                                                                                                                                                                                                                                                                                                                                                                                                                                                                                                                                                                                                                                                                                                                                                                                                                                                                                                                                                                                                                                                                                                                                                                                                                                                                                                                                                                                                                                                                                                                                                                                                                                                                                                                                                                                                                                                                                                                                                                                                                                                                  \n",
       "\n",
       "                 city                                    url  \n",
       "0  DeSoto              https://www.airbnb.com/rooms/12791862  \n",
       "1  Highlands           https://www.airbnb.com/rooms/16558556  \n",
       "2  South Padre Island  https://www.airbnb.com/rooms/18813079  \n",
       "3  Canyon Lake         https://www.airbnb.com/rooms/19048300  \n",
       "4  South Padre Island  https://www.airbnb.com/rooms/19565733  "
      ]
     },
     "execution_count": 16,
     "metadata": {},
     "output_type": "execute_result"
    }
   ],
   "source": [
    "result_df"
   ]
  },
  {
   "cell_type": "markdown",
   "metadata": {},
   "source": [
    "In order to see jupyter widget: type 'jupyter nbextension enable --py widgetsnbextension --sys-prefix' in anaconda navigator"
   ]
  },
  {
   "cell_type": "code",
   "execution_count": 17,
   "metadata": {},
   "outputs": [
    {
     "name": "stdout",
     "output_type": "stream",
     "text": [
      "How many bedrooms would you preffer?\n"
     ]
    },
    {
     "data": {
      "application/vnd.jupyter.widget-view+json": {
       "model_id": "9616812199e44b3996521c64bf0b6c32",
       "version_major": 2,
       "version_minor": 0
      },
      "text/plain": [
       "A Jupyter Widget"
      ]
     },
     "metadata": {},
     "output_type": "display_data"
    }
   ],
   "source": [
    "print(\"How many bedrooms would you preffer?\")\n",
    "\n",
    "available_room_number=functions.calculate_room_nums(doc_id_rs)\n",
    "w1=widgets.ToggleButtons(\n",
    "    options=available_room_number,\n",
    "    description='# of rooms:',\n",
    "    disabled=False,\n",
    "    button_style='info',#, # 'success', 'info', 'warning', 'danger' or ''\n",
    "      )\n",
    "w1"
   ]
  },
  {
   "cell_type": "code",
   "execution_count": 18,
   "metadata": {},
   "outputs": [
    {
     "name": "stdout",
     "output_type": "stream",
     "text": [
      "What price per night would you preffer?\n"
     ]
    },
    {
     "data": {
      "application/vnd.jupyter.widget-view+json": {
       "model_id": "c7e1027d3f304129b93bf28707dfec8b",
       "version_major": 2,
       "version_minor": 0
      },
      "text/plain": [
       "A Jupyter Widget"
      ]
     },
     "metadata": {},
     "output_type": "display_data"
    }
   ],
   "source": [
    "print(\"What price per night would you preffer?\")\n",
    "\n",
    "w2=widgets.FloatText(\n",
    "    value=150,\n",
    "    description='Price ($):',\n",
    "    disabled=False\n",
    ")\n",
    "w2"
   ]
  },
  {
   "cell_type": "markdown",
   "metadata": {},
   "source": [
    "Ipywidgets were used for extracting additional information about user desires and not a regular input, which is a reason it doesn't appear on the uploaded version. Therefore, these next two following cells just show the image of those questions. We considered that "
   ]
  },
  {
   "cell_type": "code",
   "execution_count": 19,
   "metadata": {},
   "outputs": [
    {
     "data": {
      "image/png": "[encoded data removed]",
      "text/plain": [
       "<IPython.core.display.Image object>"
      ]
     },
     "execution_count": 19,
     "metadata": {},
     "output_type": "execute_result"
    }
   ],
   "source": [
    "Image(\"q1.png\")"
   ]
  },
  {
   "cell_type": "code",
   "execution_count": 20,
   "metadata": {},
   "outputs": [
    {
     "data": {
      "image/png": "[encoded data removed]",
      "text/plain": [
       "<IPython.core.display.Image object>"
      ]
     },
     "execution_count": 20,
     "metadata": {},
     "output_type": "execute_result"
    }
   ],
   "source": [
    "Image(\"q2.png\")"
   ]
  },
  {
   "cell_type": "markdown",
   "metadata": {},
   "source": [
    "Price is the factor that is the most important to all the users. Based on the value that user inputs the score that will be assigned depends. Also, the number of bedrooms is somethin of great value to the users cause everyone wants to get those result sets at the beginning and not houses with less/more rooms which they probably won't need them or \n",
    "\n",
    "\n",
    "Rules of the new scoring function:\n",
    "\n",
    "1. if 0=<average_rate_per_night<=chosen_avg_price/2 score is 0.45\n",
    "2. if chosen_avg_price/2<average_rate_per_night<=chosen_avg_price score is 0.25\n",
    "3. if chosen_avg_price/2<average_rate_per_night<=chosen_avg_price score is 0.05\n",
    "4. if 'bedrooms_count' is equal to the chosen_no_rooms is 0.25\n",
    "       \n",
    "       \n",
    "       \n",
    "       "
   ]
  },
  {
   "cell_type": "code",
   "execution_count": 21,
   "metadata": {},
   "outputs": [
    {
     "name": "stdout",
     "output_type": "stream",
     "text": [
      "User input: \n",
      "    chosen_avg_price  chosen_no_rooms\n",
      "0  150               3              \n"
     ]
    },
    {
     "data": {
      "text/html": [
       "<div>\n",
       "<style>\n",
       "    .dataframe thead tr:only-child th {\n",
       "        text-align: right;\n",
       "    }\n",
       "\n",
       "    .dataframe thead th {\n",
       "        text-align: left;\n",
       "    }\n",
       "\n",
       "    .dataframe tbody tr th {\n",
       "        vertical-align: top;\n",
       "    }\n",
       "</style>\n",
       "<table border=\"1\" class=\"dataframe\">\n",
       "  <thead>\n",
       "    <tr style=\"text-align: right;\">\n",
       "      <th></th>\n",
       "      <th>bedrooms_count</th>\n",
       "      <th>B score</th>\n",
       "      <th>average_rate_per_night</th>\n",
       "      <th>R score</th>\n",
       "      <th>BR score</th>\n",
       "    </tr>\n",
       "  </thead>\n",
       "  <tbody>\n",
       "    <tr>\n",
       "      <th>0</th>\n",
       "      <td>2</td>\n",
       "      <td>0.00</td>\n",
       "      <td>50</td>\n",
       "      <td>0.45</td>\n",
       "      <td>0.45</td>\n",
       "    </tr>\n",
       "    <tr>\n",
       "      <th>1</th>\n",
       "      <td>3</td>\n",
       "      <td>0.25</td>\n",
       "      <td>100</td>\n",
       "      <td>0.25</td>\n",
       "      <td>0.50</td>\n",
       "    </tr>\n",
       "    <tr>\n",
       "      <th>2</th>\n",
       "      <td>3</td>\n",
       "      <td>0.25</td>\n",
       "      <td>250</td>\n",
       "      <td>0.05</td>\n",
       "      <td>0.30</td>\n",
       "    </tr>\n",
       "    <tr>\n",
       "      <th>3</th>\n",
       "      <td>4</td>\n",
       "      <td>0.00</td>\n",
       "      <td>550</td>\n",
       "      <td>0.00</td>\n",
       "      <td>0.00</td>\n",
       "    </tr>\n",
       "  </tbody>\n",
       "</table>\n",
       "</div>"
      ],
      "text/plain": [
       "   bedrooms_count  B score  average_rate_per_night  R score  BR score\n",
       "0  2               0.00     50                      0.45     0.45    \n",
       "1  3               0.25     100                     0.25     0.50    \n",
       "2  3               0.25     250                     0.05     0.30    \n",
       "3  4               0.00     550                     0.00     0.00    "
      ]
     },
     "execution_count": 21,
     "metadata": {},
     "output_type": "execute_result"
    }
   ],
   "source": [
    "user_input,explanatory_df=functions.example_score()\n",
    "print('User input: \\n',user_input)\n",
    "explanatory_df"
   ]
  },
  {
   "cell_type": "code",
   "execution_count": 24,
   "metadata": {},
   "outputs": [],
   "source": [
    "#process_first_question\n",
    "chosen_no_rooms=w1.get_interact_value()\n",
    "#process_second_question\n",
    "chosen_avg_price=w2.get_interact_value()\n",
    "score_lst,heapified_tuples=functions.new_score(doc_id_rs,chosen_avg_price,chosen_no_rooms)"
   ]
  },
  {
   "cell_type": "code",
   "execution_count": 25,
   "metadata": {},
   "outputs": [
    {
     "data": {
      "text/plain": [
       "[(0, 2022), (0, 5806), (0.3, 9099), (0.45, 544), (0.25, 12787)]"
      ]
     },
     "execution_count": 25,
     "metadata": {},
     "output_type": "execute_result"
    }
   ],
   "source": [
    "heapified_tuples"
   ]
  },
  {
   "cell_type": "code",
   "execution_count": 26,
   "metadata": {},
   "outputs": [],
   "source": [
    "sorted_scores=nlargest(len(heapified_tuples),heapified_tuples)"
   ]
  },
  {
   "cell_type": "code",
   "execution_count": null,
   "metadata": {},
   "outputs": [],
   "source": []
  },
  {
   "cell_type": "code",
   "execution_count": 27,
   "metadata": {},
   "outputs": [
    {
     "data": {
      "text/plain": [
       "defaultdict(list, {0: [5806, 2022], 0.25: [12787], 0.3: [9099], 0.45: [544]})"
      ]
     },
     "execution_count": 27,
     "metadata": {},
     "output_type": "execute_result"
    }
   ],
   "source": [
    "sorted_docs_dic=defaultdict(list)\n",
    "#counter=1\n",
    "for tup in sorted_scores:\n",
    "    sorted_docs_dic[tup[0]].append(tup[1])\n",
    "#    counter=counter+1\n",
    "sorted_docs_dic"
   ]
  },
  {
   "cell_type": "code",
   "execution_count": 28,
   "metadata": {},
   "outputs": [
    {
     "data": {
      "text/plain": [
       "defaultdict(list, {1: [544], 2: [9099], 3: [12787], 4: [5806, 2022]})"
      ]
     },
     "execution_count": 28,
     "metadata": {},
     "output_type": "execute_result"
    }
   ],
   "source": [
    "sorted_docs_rank_dic=defaultdict(list)\n",
    "counter_rank=1\n",
    "for k,v in sorted_docs_dic.items():\n",
    "    k=counter_rank\n",
    "    sorted_docs_rank_dic[k]=v\n",
    "    counter_rank=counter_rank+1\n",
    "sorted_docs_rank_dic"
   ]
  },
  {
   "cell_type": "code",
   "execution_count": 32,
   "metadata": {},
   "outputs": [
    {
     "data": {
      "text/plain": [
       "OrderedDict([(544, 1), (9099, 2), (12787, 3), (5806, 4), (2022, 4)])"
      ]
     },
     "execution_count": 32,
     "metadata": {},
     "output_type": "execute_result"
    }
   ],
   "source": [
    "ranking_dict=functions.ranking_BR_score(heapified_tuples)\n",
    "ranking_dict"
   ]
  },
  {
   "cell_type": "code",
   "execution_count": 30,
   "metadata": {},
   "outputs": [],
   "source": [
    "ranking_dict=OrderedDict()\n",
    "for k,v in (sorted_docs_rank_dic.items()):\n",
    "    for list_val in v:\n",
    "        ranking_dict[list_val]=k"
   ]
  },
  {
   "cell_type": "code",
   "execution_count": 31,
   "metadata": {},
   "outputs": [
    {
     "data": {
      "text/plain": [
       "OrderedDict([(544, 1), (9099, 2), (12787, 3), (5806, 4), (2022, 4)])"
      ]
     },
     "execution_count": 31,
     "metadata": {},
     "output_type": "execute_result"
    }
   ],
   "source": [
    "ranking_dict"
   ]
  },
  {
   "cell_type": "code",
   "execution_count": 33,
   "metadata": {},
   "outputs": [],
   "source": [
    "df=functions.finalize_output(list(ranking_dict.keys()))\n",
    "df['ranking']=ranking_dict.values()#(df.index+1)"
   ]
  },
  {
   "cell_type": "code",
   "execution_count": 34,
   "metadata": {},
   "outputs": [
    {
     "data": {
      "text/html": [
       "<div>\n",
       "<style>\n",
       "    .dataframe thead tr:only-child th {\n",
       "        text-align: right;\n",
       "    }\n",
       "\n",
       "    .dataframe thead th {\n",
       "        text-align: left;\n",
       "    }\n",
       "\n",
       "    .dataframe tbody tr th {\n",
       "        vertical-align: top;\n",
       "    }\n",
       "</style>\n",
       "<table border=\"1\" class=\"dataframe\">\n",
       "  <thead>\n",
       "    <tr style=\"text-align: right;\">\n",
       "      <th></th>\n",
       "      <th>title</th>\n",
       "      <th>description</th>\n",
       "      <th>city</th>\n",
       "      <th>url</th>\n",
       "    </tr>\n",
       "    <tr>\n",
       "      <th>ranking</th>\n",
       "      <th></th>\n",
       "      <th></th>\n",
       "      <th></th>\n",
       "      <th></th>\n",
       "    </tr>\n",
       "  </thead>\n",
       "  <tbody>\n",
       "    <tr>\n",
       "      <th>1</th>\n",
       "      <td>Pool/Hot Tub - 3 Room Suite - Private Bathroom</td>\n",
       "      <td>Two bedrooms, a sitting room &amp;amp; a private bathroom! (2 real beds, a sofa bed &amp;amp; 3 air mattresses) The entire upstairs of my house! (My wife and I live downstairs) A continental breakfast is included (fresh fruit, cereal, milk, coffee bar, snacks, microwave.)\\n25 min to downtown Dallas / 30 minutes to AT&amp;amp;T Stadium\\n\\nSwim in the pool! Sit and soak in the hot tub (by the glow of Tiki torches). Connect with WiFi &amp;amp; Internet. Enjoy movies and programing, in your private rooms, on DirecTV and NETFLIX.</td>\n",
       "      <td>DeSoto</td>\n",
       "      <td>https://www.airbnb.com/rooms/12791862</td>\n",
       "    </tr>\n",
       "    <tr>\n",
       "      <th>2</th>\n",
       "      <td>Bay view condo with pool , boat dock sleeps 5-6</td>\n",
       "      <td>The modern newly remodeled Tortuga Bay Bay front Condo with private boat dock offers 2 Bedrooms, (Sleeps up to 6) 2 Full Baths, Resort Pool, Hot Tub, Breathtaking Bayfront Balcony, Full Size-Fully Equipped Kitchen, LCD TVs, Wi-Fi , and so Much More than the Mind Can Conceive!\\n\\n2 Bedrooms (2-Queen Beds, 2-Twin Beds)\\nBay front Balcony, Fully Equipped Kitchen, Washer and Dryer\\n3 LCD HDTV\\nBroadband Internet and Wi-Fi throughout\\nResort Pool and Hot Tub \\nPrivate Boat Dock, Outstanding Bay Views</td>\n",
       "      <td>South Padre Island</td>\n",
       "      <td>https://www.airbnb.com/rooms/18813079</td>\n",
       "    </tr>\n",
       "    <tr>\n",
       "      <th>3</th>\n",
       "      <td>Owner's Special Newly Remodeled Beachfront Condo</td>\n",
       "      <td>The modern newly remodeled in 2017 Sea Vista Beachfront Condo offers 2 Bedrooms, (Sleeps up to 6) \\n\\n2 Bedrooms (1-King Bed, 2-Full Beds)\\nBeachfront Balcony, Fully Equipped Kitchen, Washer and Dryer\\nCentral Air Conditioner\\n3 LCD HDTV\\nBroadband Internet and Wi-Fi throughout\\n2 Resort Pools, 2 Hot Tub and 2 Tennis Courts\\nPrivate Beach Access, Gulf and Oceanfront Views\\nGated Entry and Elevator</td>\n",
       "      <td>South Padre Island</td>\n",
       "      <td>https://www.airbnb.com/rooms/19565733</td>\n",
       "    </tr>\n",
       "    <tr>\n",
       "      <th>4</th>\n",
       "      <td>Estrella del Lago (Star of the Lake) Waterfront Lake House with Hot Tub</td>\n",
       "      <td>Welcome to the beautiful waterfront lake house with water access! This home known as Estrella Del Lago (Star of the Lake) is a 2 story 3 bedroom, 2 and a half bathroom home situated along the pristine shores of Canyon Lake to provide a relaxing retreat and act as a meeting place for friends and family.\\nPull up in your boat or jet skis and drop anchor as the property is located in a quiet area is perfect for swimming, fishing, and kayaking (provided - use at your own risk) on the clear blue water. \\nA fully equipped kitchen hosts cooking for the whole family. The home bellies a cozy atmosphere with tall ceilings, comfy beds, furnishings, and relaxing environment. You can enjoy a view from just about every room inside the home and the private covered porches which provide plenty of seating, a Gas Grill, a Firepit, and other outdoor furnishings. The main level features an open concept living with a large deck that is an extension of the home. The living room, dining area, kitchen, and a bedroom are on the main floor. \\nIn the lower level you will find a guest area with two bedrooms and a full bathroom which provide plenty of sleeping (2 full size bed bunk beds and Queen bed), a second deck with a hot tub, and fire pit are right off the lower level guest rooms. Other amenities include: Time Warner (Spectrum) cable, High Speed Internet, HBO, Showtime, BluRay DVD Player, Multiple TVs, board games and many more.\\nPlease visit our to check rates, availability, and other properties. Gruene, and Canyon Lake are famous for their abundance of country music shows, dinner eateries, theater venues, and shopping. Once visitors have had their fill of this part of the Texas Hill Country, they can take a trip to New Braunfels, Schlitterbahn a sprawling theme park with water rides, nearby live music at the numerous libation stations, McAdoos Seafood Company, and pioneer craft shops. Located just 15 miles from New Braunfels and Gruene,\\nJust 5 miles south of Estrella Del Lago, the Whitewater amphitheater has become known as the Live Music Show Capital of south Texas, with 20 live performances featuring more than 50 shows. Shows range from rock n' roll, local music, and country's musics most famous musicians.\\nFloating down a river has long been the epic journey, from Lewis and Clark's exploratory sojourn to numerous household pets trying to find their way home. Located five minutes from Estrella Del Lago are numerous river outfitters. Guadalupe River outfitters have a rental fleet of water-dirigibles that usher in leisurely maritime adventures on the lush waters of the Guadalupe River. Inner-tubes cradle the relaxed bodies of slow-paced thrill-seekers as they partake of an epic journey around the famed Horseshoe. Floats can be a 1-to 10-mile odyssey that can last three-eight hours depending on the number of frightened thrill seekers you're able to bribe with stale refreshments. River outfitters can accommodate large groups, and rent by the half-day or full-day consisting of floats that traverse 1- or 10-mile journeys, estimated. As the natural beauty of the surrounding riverside evokes audible gasps and joyful weeping, toob mates are encouraged to sup on their own food and drink.</td>\n",
       "      <td>Canyon Lake</td>\n",
       "      <td>https://www.airbnb.com/rooms/19048300</td>\n",
       "    </tr>\n",
       "    <tr>\n",
       "      <th>4</th>\n",
       "      <td>GREAT RENT HOUSE FOR SUPERBOWL</td>\n",
       "      <td>SUPERBOWL 2017 DREAM VACATION HOUSE!!!\\n4 bedroom, 2 bathroom house for rent. Water front. 30 minute drive to the NRG stadium for the Super bowl. Full access to entire house, including kitchen. We have a house next door so we will be available at all times. \\n***pictures show house before it's finished. I will post progress pictures as we finish up the redecorating. ***stay three nights, get the fourth night for free or stay a week for a flat rate of $5000. A REFUNDABLE security deposit of $seven-hundred dollars. \\nLand Rover available for $75/hr for driver or $399/day. \\n\\nAMENITIES\\n-access to private pool and hot tub\\n-stocked kitchen available for use \\n-water front view \\n-washer and dryer\\n-car available for additional rates \\n-internet and cable\\n\\nAvailable for interaction 24/7\\n\\nVery spacious. 2 acres of land.</td>\n",
       "      <td>Highlands</td>\n",
       "      <td>https://www.airbnb.com/rooms/16558556</td>\n",
       "    </tr>\n",
       "  </tbody>\n",
       "</table>\n",
       "</div>"
      ],
      "text/plain": [
       "                                                                           title  \\\n",
       "ranking                                                                            \n",
       "1        Pool/Hot Tub - 3 Room Suite - Private Bathroom                            \n",
       "2        Bay view condo with pool , boat dock sleeps 5-6                           \n",
       "3        Owner's Special Newly Remodeled Beachfront Condo                          \n",
       "4        Estrella del Lago (Star of the Lake) Waterfront Lake House with Hot Tub   \n",
       "4        GREAT RENT HOUSE FOR SUPERBOWL                                            \n",
       "\n",
       "                                                                                                                                                                                                                                                                                                                                                                                                                                                                                                                                                                                                                                                                                                                                                                                                                                                                                                                                                                                                                                                                                                                                                                                                                                                                                                                                                                                                                                                                                                                                                                                                                                                                                                                                                                                                                                                                                                                                                                                                                                                                                                                                                                                                                                                                                                                                                                                                                                                                                                                                                                                                                                                                                                                                                                                                                                                                                                                                                                                                                                                                                                                                                                                                                                                                                                                                                description  \\\n",
       "ranking                                                                                                                                                                                                                                                                                                                                                                                                                                                                                                                                                                                                                                                                                                                                                                                                                                                                                                                                                                                                                                                                                                                                                                                                                                                                                                                                                                                                                                                                                                                                                                                                                                                                                                                                                                                                                                                                                                                                                                                                                                                                                                                                                                                                                                                                                                                                                                                                                                                                                                                                                                                                                                                                                                                                                                                                                                                                                                                                                                                                                                                                                                                                                                                                                                                                                                                                                       \n",
       "1        Two bedrooms, a sitting room &amp; a private bathroom! (2 real beds, a sofa bed &amp; 3 air mattresses) The entire upstairs of my house! (My wife and I live downstairs) A continental breakfast is included (fresh fruit, cereal, milk, coffee bar, snacks, microwave.)\\n25 min to downtown Dallas / 30 minutes to AT&amp;T Stadium\\n\\nSwim in the pool! Sit and soak in the hot tub (by the glow of Tiki torches). Connect with WiFi &amp; Internet. Enjoy movies and programing, in your private rooms, on DirecTV and NETFLIX.                                                                                                                                                                                                                                                                                                                                                                                                                                                                                                                                                                                                                                                                                                                                                                                                                                                                                                                                                                                                                                                                                                                                                                                                                                                                                                                                                                                                                                                                                                                                                                                                                                                                                                                                                                                                                                                                                                                                                                                                                                                                                                                                                                                                                                                                                                                                                                                                                                                                                                                                                                                                                                                                                                                                                                                                                   \n",
       "2        The modern newly remodeled Tortuga Bay Bay front Condo with private boat dock offers 2 Bedrooms, (Sleeps up to 6) 2 Full Baths, Resort Pool, Hot Tub, Breathtaking Bayfront Balcony, Full Size-Fully Equipped Kitchen, LCD TVs, Wi-Fi , and so Much More than the Mind Can Conceive!\\n\\n2 Bedrooms (2-Queen Beds, 2-Twin Beds)\\nBay front Balcony, Fully Equipped Kitchen, Washer and Dryer\\n3 LCD HDTV\\nBroadband Internet and Wi-Fi throughout\\nResort Pool and Hot Tub \\nPrivate Boat Dock, Outstanding Bay Views                                                                                                                                                                                                                                                                                                                                                                                                                                                                                                                                                                                                                                                                                                                                                                                                                                                                                                                                                                                                                                                                                                                                                                                                                                                                                                                                                                                                                                                                                                                                                                                                                                                                                                                                                                                                                                                                                                                                                                                                                                                                                                                                                                                                                                                                                                                                                                                                                                                                                                                                                                                                                                                                                                                                                                                                                              \n",
       "3        The modern newly remodeled in 2017 Sea Vista Beachfront Condo offers 2 Bedrooms, (Sleeps up to 6) \\n\\n2 Bedrooms (1-King Bed, 2-Full Beds)\\nBeachfront Balcony, Fully Equipped Kitchen, Washer and Dryer\\nCentral Air Conditioner\\n3 LCD HDTV\\nBroadband Internet and Wi-Fi throughout\\n2 Resort Pools, 2 Hot Tub and 2 Tennis Courts\\nPrivate Beach Access, Gulf and Oceanfront Views\\nGated Entry and Elevator                                                                                                                                                                                                                                                                                                                                                                                                                                                                                                                                                                                                                                                                                                                                                                                                                                                                                                                                                                                                                                                                                                                                                                                                                                                                                                                                                                                                                                                                                                                                                                                                                                                                                                                                                                                                                                                                                                                                                                                                                                                                                                                                                                                                                                                                                                                                                                                                                                                                                                                                                                                                                                                                                                                                                                                                                                                                                                                                  \n",
       "4        Welcome to the beautiful waterfront lake house with water access! This home known as Estrella Del Lago (Star of the Lake) is a 2 story 3 bedroom, 2 and a half bathroom home situated along the pristine shores of Canyon Lake to provide a relaxing retreat and act as a meeting place for friends and family.\\nPull up in your boat or jet skis and drop anchor as the property is located in a quiet area is perfect for swimming, fishing, and kayaking (provided - use at your own risk) on the clear blue water. \\nA fully equipped kitchen hosts cooking for the whole family. The home bellies a cozy atmosphere with tall ceilings, comfy beds, furnishings, and relaxing environment. You can enjoy a view from just about every room inside the home and the private covered porches which provide plenty of seating, a Gas Grill, a Firepit, and other outdoor furnishings. The main level features an open concept living with a large deck that is an extension of the home. The living room, dining area, kitchen, and a bedroom are on the main floor. \\nIn the lower level you will find a guest area with two bedrooms and a full bathroom which provide plenty of sleeping (2 full size bed bunk beds and Queen bed), a second deck with a hot tub, and fire pit are right off the lower level guest rooms. Other amenities include: Time Warner (Spectrum) cable, High Speed Internet, HBO, Showtime, BluRay DVD Player, Multiple TVs, board games and many more.\\nPlease visit our to check rates, availability, and other properties. Gruene, and Canyon Lake are famous for their abundance of country music shows, dinner eateries, theater venues, and shopping. Once visitors have had their fill of this part of the Texas Hill Country, they can take a trip to New Braunfels, Schlitterbahn a sprawling theme park with water rides, nearby live music at the numerous libation stations, McAdoos Seafood Company, and pioneer craft shops. Located just 15 miles from New Braunfels and Gruene,\\nJust 5 miles south of Estrella Del Lago, the Whitewater amphitheater has become known as the Live Music Show Capital of south Texas, with 20 live performances featuring more than 50 shows. Shows range from rock n' roll, local music, and country's musics most famous musicians.\\nFloating down a river has long been the epic journey, from Lewis and Clark's exploratory sojourn to numerous household pets trying to find their way home. Located five minutes from Estrella Del Lago are numerous river outfitters. Guadalupe River outfitters have a rental fleet of water-dirigibles that usher in leisurely maritime adventures on the lush waters of the Guadalupe River. Inner-tubes cradle the relaxed bodies of slow-paced thrill-seekers as they partake of an epic journey around the famed Horseshoe. Floats can be a 1-to 10-mile odyssey that can last three-eight hours depending on the number of frightened thrill seekers you're able to bribe with stale refreshments. River outfitters can accommodate large groups, and rent by the half-day or full-day consisting of floats that traverse 1- or 10-mile journeys, estimated. As the natural beauty of the surrounding riverside evokes audible gasps and joyful weeping, toob mates are encouraged to sup on their own food and drink.   \n",
       "4        SUPERBOWL 2017 DREAM VACATION HOUSE!!!\\n4 bedroom, 2 bathroom house for rent. Water front. 30 minute drive to the NRG stadium for the Super bowl. Full access to entire house, including kitchen. We have a house next door so we will be available at all times. \\n***pictures show house before it's finished. I will post progress pictures as we finish up the redecorating. ***stay three nights, get the fourth night for free or stay a week for a flat rate of $5000. A REFUNDABLE security deposit of $seven-hundred dollars. \\nLand Rover available for $75/hr for driver or $399/day. \\n\\nAMENITIES\\n-access to private pool and hot tub\\n-stocked kitchen available for use \\n-water front view \\n-washer and dryer\\n-car available for additional rates \\n-internet and cable\\n\\nAvailable for interaction 24/7\\n\\nVery spacious. 2 acres of land.                                                                                                                                                                                                                                                                                                                                                                                                                                                                                                                                                                                                                                                                                                                                                                                                                                                                                                                                                                                                                                                                                                                                                                                                                                                                                                                                                                                                                                                                                                                                                                                                                                                                                                                                                                                                                                                                                                                                                                                                                                                                                                                                                                                                                                                                                                                                                                                                                                                                                      \n",
       "\n",
       "                       city                                    url  \n",
       "ranking                                                             \n",
       "1        DeSoto              https://www.airbnb.com/rooms/12791862  \n",
       "2        South Padre Island  https://www.airbnb.com/rooms/18813079  \n",
       "3        South Padre Island  https://www.airbnb.com/rooms/19565733  \n",
       "4        Canyon Lake         https://www.airbnb.com/rooms/19048300  \n",
       "4        Highlands           https://www.airbnb.com/rooms/16558556  "
      ]
     },
     "execution_count": 34,
     "metadata": {},
     "output_type": "execute_result"
    }
   ],
   "source": [
    "df[['ranking','title','description','city','url']]\n",
    "df.set_index('ranking')"
   ]
  },
  {
   "cell_type": "code",
   "execution_count": null,
   "metadata": {},
   "outputs": [],
   "source": []
  },
  {
   "cell_type": "code",
   "execution_count": null,
   "metadata": {},
   "outputs": [],
   "source": []
  }
 ],
 "metadata": {
  "kernelspec": {
   "display_name": "Python 3",
   "language": "python",
   "name": "python3"
  },
  "language_info": {
   "codemirror_mode": {
    "name": "ipython",
    "version": 3
   },
   "file_extension": ".py",
   "mimetype": "text/x-python",
   "name": "python",
   "nbconvert_exporter": "python",
   "pygments_lexer": "ipython3",
   "version": "3.6.3"
  }
 },
 "nbformat": 4,
 "nbformat_minor": 2
}
